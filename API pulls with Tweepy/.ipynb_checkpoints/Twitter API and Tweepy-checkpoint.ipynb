{
 "cells": [
  {
   "cell_type": "code",
   "execution_count": 1,
   "metadata": {},
   "outputs": [],
   "source": [
    "import tweepy\n",
    "import pandas as pd\n",
    "import itertools\n",
    "import sys\n",
    "import csv"
   ]
  },
  {
   "cell_type": "markdown",
   "metadata": {},
   "source": [
    "### Authorization"
   ]
  },
  {
   "cell_type": "code",
   "execution_count": 2,
   "metadata": {},
   "outputs": [],
   "source": [
    "consumer_key=\"FJxeNg2pkApfQkHWp8I0E70gU\"\n",
    "consumer_secret= \"es5030A8qeOYvq3jfXmZicq2Yu4X2xOMm0Pfa1z0cqaxeUHqwU\"\n",
    "access_token = \"47257922-zzA5oohYNDNN48aUBxNaBPhD6Gme3O8V5BKYlTirk\"\n",
    "access_token_secret = \"dmzb11NuClRtuN6r7OLLoWo1AANZjIjgTIX6thBS4cOXh\"\n",
    "\n",
    "auth = tweepy.OAuthHandler(consumer_key, consumer_secret)\n",
    "auth.set_access_token(access_token, access_token_secret)\n",
    "api = tweepy.API(auth)"
   ]
  },
  {
   "cell_type": "markdown",
   "metadata": {},
   "source": [
    "### Method"
   ]
  },
  {
   "cell_type": "markdown",
   "metadata": {},
   "source": [
    "1. Pull popular tweet on controversial subject\n",
    "2. Pull 100 replies to user\n",
    "3. For each reply, determine if replies exist to that reply by search for @original_tweeter @replier\n",
    "4. If replies exist, filter by if they are relevant reply to reply status id\n",
    "5. "
   ]
  },
  {
   "cell_type": "code",
   "execution_count": 88,
   "metadata": {},
   "outputs": [],
   "source": [
    "#Search for tweets based on search term\n",
    "search_term = 'trump'\n",
    "number_of_tweets = 5\n",
    "\n",
    "cursor = tweepy.Cursor(api.search, q= search_term,\n",
    "                      tweet_mode=\"extended\",\n",
    "                      result_type = \"popular\").items(number_of_tweets)\n",
    "for i in cursor:\n",
    "    tweet_user = i._json[\"user\"][\"screen_name\"]\n",
    "    tweet_text = i.full_text\n",
    "    create_time = i.created_at\n"
   ]
  },
  {
   "cell_type": "code",
   "execution_count": 89,
   "metadata": {},
   "outputs": [
    {
     "data": {
      "text/plain": [
       "'JackPosobiec'"
      ]
     },
     "execution_count": 89,
     "metadata": {},
     "output_type": "execute_result"
    }
   ],
   "source": [
    "tweet_user"
   ]
  },
  {
   "cell_type": "code",
   "execution_count": 107,
   "metadata": {},
   "outputs": [],
   "source": [
    "replies = []\n",
    "reply_ids = []\n",
    "reply_users = []\n",
    "reply_times = []\n",
    "\n",
    "for tweet in tweepy.Cursor(api.search,q='to:'+ tweet_user,result_type='popular',timeout=999999).items(50):\n",
    "    if hasattr(tweet, 'in_reply_to_status_id_str'):\n",
    "        if tweet._json[\"user\"][\"screen_name\"] != tweet_user:\n",
    "            reply_times.append(tweet.created_at)\n",
    "            reply_ids.append(tweet.id_str)\n",
    "            reply_users.append(tweet._json[\"user\"][\"screen_name\"])\n",
    "            replies.append(tweet.text)  \n"
   ]
  },
  {
   "cell_type": "code",
   "execution_count": 108,
   "metadata": {},
   "outputs": [
    {
     "data": {
      "text/plain": [
       "['1359538845075845126',\n",
       " '1359712506709737479',\n",
       " '1359882528665042948',\n",
       " '1358220340380372993',\n",
       " '1358639950946729984',\n",
       " '1358982421337706498',\n",
       " '1357727209692295170']"
      ]
     },
     "execution_count": 108,
     "metadata": {},
     "output_type": "execute_result"
    }
   ],
   "source": [
    "reply_ids"
   ]
  },
  {
   "cell_type": "code",
   "execution_count": 104,
   "metadata": {},
   "outputs": [
    {
     "data": {
      "text/plain": [
       "[1359538845075845126,\n",
       " 1359712506709737479,\n",
       " 1359882528665042948,\n",
       " 1358220340380372993,\n",
       " 1358639950946729984,\n",
       " 1358982421337706498,\n",
       " 1357727209692295170]"
      ]
     },
     "execution_count": 104,
     "metadata": {},
     "output_type": "execute_result"
    }
   ],
   "source": [
    "reply_ids"
   ]
  },
  {
   "cell_type": "code",
   "execution_count": 113,
   "metadata": {},
   "outputs": [
    {
     "name": "stdout",
     "output_type": "stream",
     "text": [
      "---\n",
      "@JackPosobiec Anyone else find it ironic that @Jeep has done more to destroy their brand in 30 seconds than 80 year… https://t.co/m3MWxTrqwN\n",
      "2021-02-10 16:24:54\n",
      "1359538845075845126\n",
      "--\n"
     ]
    },
    {
     "ename": "TweepError",
     "evalue": "Twitter error response: status code = 429",
     "output_type": "error",
     "traceback": [
      "\u001b[0;31m---------------------------------------------------------------------------\u001b[0m",
      "\u001b[0;31mTweepError\u001b[0m                                Traceback (most recent call last)",
      "\u001b[0;32m<ipython-input-113-5e11ef6e986b>\u001b[0m in \u001b[0;36m<module>\u001b[0;34m()\u001b[0m\n\u001b[1;32m      5\u001b[0m     \u001b[0mprint\u001b[0m\u001b[0;34m(\u001b[0m\u001b[0mreply_id\u001b[0m\u001b[0;34m)\u001b[0m\u001b[0;34m\u001b[0m\u001b[0;34m\u001b[0m\u001b[0m\n\u001b[1;32m      6\u001b[0m     \u001b[0mprint\u001b[0m\u001b[0;34m(\u001b[0m\u001b[0;34m'--'\u001b[0m\u001b[0;34m)\u001b[0m\u001b[0;34m\u001b[0m\u001b[0;34m\u001b[0m\u001b[0m\n\u001b[0;32m----> 7\u001b[0;31m     \u001b[0;32mfor\u001b[0m \u001b[0mtweet\u001b[0m \u001b[0;32min\u001b[0m \u001b[0mtweepy\u001b[0m\u001b[0;34m.\u001b[0m\u001b[0mCursor\u001b[0m\u001b[0;34m(\u001b[0m\u001b[0mapi\u001b[0m\u001b[0;34m.\u001b[0m\u001b[0msearch\u001b[0m\u001b[0;34m,\u001b[0m\u001b[0mq\u001b[0m\u001b[0;34m=\u001b[0m\u001b[0;34m'to:'\u001b[0m\u001b[0;34m+\u001b[0m \u001b[0mtweet_user\u001b[0m \u001b[0;34m+\u001b[0m \u001b[0;34m', '\u001b[0m \u001b[0;34m+\u001b[0m \u001b[0mreply_user\u001b[0m\u001b[0;34m,\u001b[0m\u001b[0mresult_type\u001b[0m\u001b[0;34m=\u001b[0m\u001b[0;34m'recent'\u001b[0m\u001b[0;34m,\u001b[0m\u001b[0mtimeout\u001b[0m\u001b[0;34m=\u001b[0m\u001b[0;36m999999\u001b[0m\u001b[0;34m)\u001b[0m\u001b[0;34m.\u001b[0m\u001b[0mitems\u001b[0m\u001b[0;34m(\u001b[0m\u001b[0;36m200\u001b[0m\u001b[0;34m)\u001b[0m\u001b[0;34m:\u001b[0m\u001b[0;34m\u001b[0m\u001b[0;34m\u001b[0m\u001b[0m\n\u001b[0m\u001b[1;32m      8\u001b[0m         \u001b[0;32mif\u001b[0m \u001b[0mhasattr\u001b[0m\u001b[0;34m(\u001b[0m\u001b[0mtweet\u001b[0m\u001b[0;34m,\u001b[0m \u001b[0;34m'in_reply_to_status_id_str'\u001b[0m\u001b[0;34m)\u001b[0m\u001b[0;34m:\u001b[0m\u001b[0;34m\u001b[0m\u001b[0;34m\u001b[0m\u001b[0m\n\u001b[1;32m      9\u001b[0m \u001b[0;31m#            if (tweet.in_reply_to_status_id_str==reply_id):\u001b[0m\u001b[0;34m\u001b[0m\u001b[0;34m\u001b[0m\u001b[0;34m\u001b[0m\u001b[0m\n",
      "\u001b[0;32m//anaconda3/lib/python3.7/site-packages/tweepy/cursor.py\u001b[0m in \u001b[0;36m__next__\u001b[0;34m(self)\u001b[0m\n\u001b[1;32m     49\u001b[0m \u001b[0;34m\u001b[0m\u001b[0m\n\u001b[1;32m     50\u001b[0m     \u001b[0;32mdef\u001b[0m \u001b[0m__next__\u001b[0m\u001b[0;34m(\u001b[0m\u001b[0mself\u001b[0m\u001b[0;34m)\u001b[0m\u001b[0;34m:\u001b[0m\u001b[0;34m\u001b[0m\u001b[0;34m\u001b[0m\u001b[0m\n\u001b[0;32m---> 51\u001b[0;31m         \u001b[0;32mreturn\u001b[0m \u001b[0mself\u001b[0m\u001b[0;34m.\u001b[0m\u001b[0mnext\u001b[0m\u001b[0;34m(\u001b[0m\u001b[0;34m)\u001b[0m\u001b[0;34m\u001b[0m\u001b[0;34m\u001b[0m\u001b[0m\n\u001b[0m\u001b[1;32m     52\u001b[0m \u001b[0;34m\u001b[0m\u001b[0m\n\u001b[1;32m     53\u001b[0m     \u001b[0;32mdef\u001b[0m \u001b[0mnext\u001b[0m\u001b[0;34m(\u001b[0m\u001b[0mself\u001b[0m\u001b[0;34m)\u001b[0m\u001b[0;34m:\u001b[0m\u001b[0;34m\u001b[0m\u001b[0;34m\u001b[0m\u001b[0m\n",
      "\u001b[0;32m//anaconda3/lib/python3.7/site-packages/tweepy/cursor.py\u001b[0m in \u001b[0;36mnext\u001b[0;34m(self)\u001b[0m\n\u001b[1;32m    241\u001b[0m         \u001b[0;32mif\u001b[0m \u001b[0mself\u001b[0m\u001b[0;34m.\u001b[0m\u001b[0mcurrent_page\u001b[0m \u001b[0;32mis\u001b[0m \u001b[0;32mNone\u001b[0m \u001b[0;32mor\u001b[0m \u001b[0mself\u001b[0m\u001b[0;34m.\u001b[0m\u001b[0mpage_index\u001b[0m \u001b[0;34m==\u001b[0m \u001b[0mlen\u001b[0m\u001b[0;34m(\u001b[0m\u001b[0mself\u001b[0m\u001b[0;34m.\u001b[0m\u001b[0mcurrent_page\u001b[0m\u001b[0;34m)\u001b[0m \u001b[0;34m-\u001b[0m \u001b[0;36m1\u001b[0m\u001b[0;34m:\u001b[0m\u001b[0;34m\u001b[0m\u001b[0;34m\u001b[0m\u001b[0m\n\u001b[1;32m    242\u001b[0m             \u001b[0;31m# Reached end of current page, get the next page...\u001b[0m\u001b[0;34m\u001b[0m\u001b[0;34m\u001b[0m\u001b[0;34m\u001b[0m\u001b[0m\n\u001b[0;32m--> 243\u001b[0;31m             \u001b[0mself\u001b[0m\u001b[0;34m.\u001b[0m\u001b[0mcurrent_page\u001b[0m \u001b[0;34m=\u001b[0m \u001b[0mself\u001b[0m\u001b[0;34m.\u001b[0m\u001b[0mpage_iterator\u001b[0m\u001b[0;34m.\u001b[0m\u001b[0mnext\u001b[0m\u001b[0;34m(\u001b[0m\u001b[0;34m)\u001b[0m\u001b[0;34m\u001b[0m\u001b[0;34m\u001b[0m\u001b[0m\n\u001b[0m\u001b[1;32m    244\u001b[0m             \u001b[0;32mwhile\u001b[0m \u001b[0mlen\u001b[0m\u001b[0;34m(\u001b[0m\u001b[0mself\u001b[0m\u001b[0;34m.\u001b[0m\u001b[0mcurrent_page\u001b[0m\u001b[0;34m)\u001b[0m \u001b[0;34m==\u001b[0m \u001b[0;36m0\u001b[0m\u001b[0;34m:\u001b[0m\u001b[0;34m\u001b[0m\u001b[0;34m\u001b[0m\u001b[0m\n\u001b[1;32m    245\u001b[0m                 \u001b[0mself\u001b[0m\u001b[0;34m.\u001b[0m\u001b[0mcurrent_page\u001b[0m \u001b[0;34m=\u001b[0m \u001b[0mself\u001b[0m\u001b[0;34m.\u001b[0m\u001b[0mpage_iterator\u001b[0m\u001b[0;34m.\u001b[0m\u001b[0mnext\u001b[0m\u001b[0;34m(\u001b[0m\u001b[0;34m)\u001b[0m\u001b[0;34m\u001b[0m\u001b[0;34m\u001b[0m\u001b[0m\n",
      "\u001b[0;32m//anaconda3/lib/python3.7/site-packages/tweepy/cursor.py\u001b[0m in \u001b[0;36mnext\u001b[0;34m(self)\u001b[0m\n\u001b[1;32m    130\u001b[0m \u001b[0;34m\u001b[0m\u001b[0m\n\u001b[1;32m    131\u001b[0m         \u001b[0;32mif\u001b[0m \u001b[0mself\u001b[0m\u001b[0;34m.\u001b[0m\u001b[0mindex\u001b[0m \u001b[0;34m>=\u001b[0m \u001b[0mlen\u001b[0m\u001b[0;34m(\u001b[0m\u001b[0mself\u001b[0m\u001b[0;34m.\u001b[0m\u001b[0mresults\u001b[0m\u001b[0;34m)\u001b[0m \u001b[0;34m-\u001b[0m \u001b[0;36m1\u001b[0m\u001b[0;34m:\u001b[0m\u001b[0;34m\u001b[0m\u001b[0;34m\u001b[0m\u001b[0m\n\u001b[0;32m--> 132\u001b[0;31m             \u001b[0mdata\u001b[0m \u001b[0;34m=\u001b[0m \u001b[0mself\u001b[0m\u001b[0;34m.\u001b[0m\u001b[0mmethod\u001b[0m\u001b[0;34m(\u001b[0m\u001b[0mmax_id\u001b[0m\u001b[0;34m=\u001b[0m\u001b[0mself\u001b[0m\u001b[0;34m.\u001b[0m\u001b[0mmax_id\u001b[0m\u001b[0;34m,\u001b[0m \u001b[0mparser\u001b[0m\u001b[0;34m=\u001b[0m\u001b[0mRawParser\u001b[0m\u001b[0;34m(\u001b[0m\u001b[0;34m)\u001b[0m\u001b[0;34m,\u001b[0m \u001b[0;34m*\u001b[0m\u001b[0mself\u001b[0m\u001b[0;34m.\u001b[0m\u001b[0margs\u001b[0m\u001b[0;34m,\u001b[0m \u001b[0;34m**\u001b[0m\u001b[0mself\u001b[0m\u001b[0;34m.\u001b[0m\u001b[0mkwargs\u001b[0m\u001b[0;34m)\u001b[0m\u001b[0;34m\u001b[0m\u001b[0;34m\u001b[0m\u001b[0m\n\u001b[0m\u001b[1;32m    133\u001b[0m \u001b[0;34m\u001b[0m\u001b[0m\n\u001b[1;32m    134\u001b[0m             \u001b[0;32mif\u001b[0m \u001b[0mhasattr\u001b[0m\u001b[0;34m(\u001b[0m\u001b[0mself\u001b[0m\u001b[0;34m.\u001b[0m\u001b[0mmethod\u001b[0m\u001b[0;34m,\u001b[0m \u001b[0;34m'__self__'\u001b[0m\u001b[0;34m)\u001b[0m\u001b[0;34m:\u001b[0m\u001b[0;34m\u001b[0m\u001b[0;34m\u001b[0m\u001b[0m\n",
      "\u001b[0;32m//anaconda3/lib/python3.7/site-packages/tweepy/binder.py\u001b[0m in \u001b[0;36m_call\u001b[0;34m(*args, **kwargs)\u001b[0m\n\u001b[1;32m    251\u001b[0m                 \u001b[0;32mreturn\u001b[0m \u001b[0mmethod\u001b[0m\u001b[0;34m\u001b[0m\u001b[0;34m\u001b[0m\u001b[0m\n\u001b[1;32m    252\u001b[0m             \u001b[0;32melse\u001b[0m\u001b[0;34m:\u001b[0m\u001b[0;34m\u001b[0m\u001b[0;34m\u001b[0m\u001b[0m\n\u001b[0;32m--> 253\u001b[0;31m                 \u001b[0;32mreturn\u001b[0m \u001b[0mmethod\u001b[0m\u001b[0;34m.\u001b[0m\u001b[0mexecute\u001b[0m\u001b[0;34m(\u001b[0m\u001b[0;34m)\u001b[0m\u001b[0;34m\u001b[0m\u001b[0;34m\u001b[0m\u001b[0m\n\u001b[0m\u001b[1;32m    254\u001b[0m         \u001b[0;32mfinally\u001b[0m\u001b[0;34m:\u001b[0m\u001b[0;34m\u001b[0m\u001b[0;34m\u001b[0m\u001b[0m\n\u001b[1;32m    255\u001b[0m             \u001b[0mmethod\u001b[0m\u001b[0;34m.\u001b[0m\u001b[0msession\u001b[0m\u001b[0;34m.\u001b[0m\u001b[0mclose\u001b[0m\u001b[0;34m(\u001b[0m\u001b[0;34m)\u001b[0m\u001b[0;34m\u001b[0m\u001b[0;34m\u001b[0m\u001b[0m\n",
      "\u001b[0;32m//anaconda3/lib/python3.7/site-packages/tweepy/binder.py\u001b[0m in \u001b[0;36mexecute\u001b[0;34m(self)\u001b[0m\n\u001b[1;32m    232\u001b[0m                     \u001b[0;32mraise\u001b[0m \u001b[0mRateLimitError\u001b[0m\u001b[0;34m(\u001b[0m\u001b[0merror_msg\u001b[0m\u001b[0;34m,\u001b[0m \u001b[0mresp\u001b[0m\u001b[0;34m)\u001b[0m\u001b[0;34m\u001b[0m\u001b[0;34m\u001b[0m\u001b[0m\n\u001b[1;32m    233\u001b[0m                 \u001b[0;32melse\u001b[0m\u001b[0;34m:\u001b[0m\u001b[0;34m\u001b[0m\u001b[0;34m\u001b[0m\u001b[0m\n\u001b[0;32m--> 234\u001b[0;31m                     \u001b[0;32mraise\u001b[0m \u001b[0mTweepError\u001b[0m\u001b[0;34m(\u001b[0m\u001b[0merror_msg\u001b[0m\u001b[0;34m,\u001b[0m \u001b[0mresp\u001b[0m\u001b[0;34m,\u001b[0m \u001b[0mapi_code\u001b[0m\u001b[0;34m=\u001b[0m\u001b[0mapi_error_code\u001b[0m\u001b[0;34m)\u001b[0m\u001b[0;34m\u001b[0m\u001b[0;34m\u001b[0m\u001b[0m\n\u001b[0m\u001b[1;32m    235\u001b[0m \u001b[0;34m\u001b[0m\u001b[0m\n\u001b[1;32m    236\u001b[0m             \u001b[0;31m# Parse the response payload\u001b[0m\u001b[0;34m\u001b[0m\u001b[0;34m\u001b[0m\u001b[0;34m\u001b[0m\u001b[0m\n",
      "\u001b[0;31mTweepError\u001b[0m: Twitter error response: status code = 429"
     ]
    }
   ],
   "source": [
    "for reply, reply_id, reply_user, reply_time in zip(replies, reply_ids, reply_users, reply_times):\n",
    "    print('---')\n",
    "    print(reply)\n",
    "    print(reply_time)\n",
    "    print(reply_id)\n",
    "    print('--')\n",
    "    for tweet in tweepy.Cursor(api.search,q='to:'+ tweet_user + ', ' + reply_user,result_type='recent',timeout=999999).items(200):\n",
    "        if hasattr(tweet, 'in_reply_to_status_id_str'):\n",
    "#            if (tweet.in_reply_to_status_id_str==reply_id):\n",
    "            print(tweet.created_at)\n",
    "            print(tweet.in_reply_to_status_id_str)\n",
    "            print(tweet._json[\"user\"][\"screen_name\"])\n",
    "            print(tweet.text) \n",
    "            print('-')"
   ]
  },
  {
   "cell_type": "markdown",
   "metadata": {},
   "source": [
    "### Exploring Cursor Object"
   ]
  },
  {
   "cell_type": "code",
   "execution_count": 64,
   "metadata": {},
   "outputs": [],
   "source": [
    "#Search for tweets based on search term\n",
    "search_term = 'immigration'\n",
    "number_of_tweets = 10\n",
    "\n",
    "cursor = tweepy.Cursor(api.search, q= search_term,\n",
    "                      tweet_mode=\"extended\",\n",
    "                      result_type = \"popular\").items(number_of_tweets)"
   ]
  },
  {
   "cell_type": "code",
   "execution_count": 65,
   "metadata": {},
   "outputs": [
    {
     "name": "stdout",
     "output_type": "stream",
     "text": [
      "TheRaDR\n",
      "Spoken like a white guy who was not harmed by his immigration policies, the Muslim Ban, the gutting of trans rights, the attacks on BLM &amp; BIPOC generally, the gutting of the safety net for those in poverty, the lies &amp; inaction about a deadly pandemic &amp; economic devastation... https://t.co/Nkf8aMXZQk\n",
      "3329\n",
      "2021-02-11 14:32:24\n",
      "None\n",
      "---\n",
      "DamienRieu\n",
      ".@GDarmanin refuse le lien immigration/islamisme mais les 42 derniers auteurs d’attentats terroristes islamistes en France, 4 seulement sont des Français sans origine étrangère, soit 9%.\n",
      "➡️ Donc 91% des terroristes ont un lien avec l’immigration.😔\n",
      "#VALP https://t.co/PM7XdXhAEz\n",
      "539\n",
      "2021-02-11 21:12:16\n",
      "None\n",
      "---\n",
      "laurenboebert\n",
      "Joe Biden’s actions have already fueled an immigration crisis.\n",
      "\n",
      "The number of illegal immigrants trying to cross our southern border on a daily basis nearly doubled last month. \n",
      "\n",
      "We need to FINISH the border wall, STOP providing amnesty and ENFORCE the rule of law!\n",
      "4868\n",
      "2021-02-12 00:02:56\n",
      "None\n",
      "---\n",
      "RealDeanCain\n",
      "Congress should be focused on their terrible immigration policy - instead of their political grandstanding.\n",
      "3134\n",
      "2021-02-11 04:10:33\n",
      "None\n",
      "---\n",
      "NikkiHaley\n",
      "Biden reinstituted Obama’s catch and release policy releasing illegal immigrants  back into the US. Illegal immigration has hit crisis levels overwhelming Border Patrol facilities &amp; maxing out community resources like COVID tests. We should be taking care of our Americans first.\n",
      "3521\n",
      "2021-02-10 16:26:34\n",
      "None\n",
      "---\n",
      "WalshFreedom\n",
      "I’ve been watching a lot of @FoxNews so far this week. Because I’ve been curious. And it may not surprise you, but on Fox News this week, it’s not “impeachment” week. It’s “immigration” week.\n",
      "3083\n",
      "2021-02-10 15:46:59\n",
      "None\n",
      "---\n",
      "jacobsoboroff\n",
      "NEW: Biden admin to name refugee advocate @MichelleBrane of @wrcommission director of task force to reunite separated families, say sources. \"If selected, Michelle would be a fantastic choice,\" said @ACLU’s @leegelernt. With @JuliaEAinsley + @GeoffRBennett.https://t.co/Tm7EOzJaRY\n",
      "1798\n",
      "2021-02-10 18:26:30\n",
      "None\n",
      "---\n",
      "CNEWS\n",
      "Gilles-William Goldnadel, avocat : «Si on ne comprend pas qu’il faut fermer les frontières et assécher l’immigration, on est foutu» dans #HDPros2 https://t.co/iOiOBI38uz\n",
      "1239\n",
      "2021-02-11 19:52:44\n",
      "None\n",
      "---\n",
      "BreitbartNews\n",
      ".@SenTomCotton is pressing Joe Biden to answer for what he calls dangerous immigration policies which are leading to flooding of the nation with “unvaccinated” illegal aliens capable of further spreading the coronavirus within America’s borders. https://t.co/erT9DHkaR3\n",
      "523\n",
      "2021-02-11 21:06:44\n",
      "None\n",
      "---\n",
      "MigrationWatch\n",
      "Five exceptionally good reasons why we need much lower immigration 🙌\n",
      "1527\n",
      "2021-02-10 08:30:00\n",
      "None\n",
      "---\n"
     ]
    }
   ],
   "source": [
    "for i in cursor:\n",
    "    print(i._json[\"user\"][\"screen_name\"])\n",
    "    print(i.full_text)\n",
    "    print(i.favorite_count)\n",
    "    print(i.created_at)\n",
    "    print(i.in_reply_to_screen_name)\n",
    "    print('---')"
   ]
  },
  {
   "cell_type": "code",
   "execution_count": 55,
   "metadata": {},
   "outputs": [],
   "source": [
    "import json\n",
    "tweet = api.get_status('1360006364379103234')\n",
    "#test_json = json.dumps(tweet._json,  indent = 3)\n",
    "test_json = tweet._json"
   ]
  },
  {
   "cell_type": "code",
   "execution_count": 59,
   "metadata": {},
   "outputs": [
    {
     "data": {
      "text/plain": [
       "'IanJSchwartz'"
      ]
     },
     "execution_count": 59,
     "metadata": {},
     "output_type": "execute_result"
    }
   ],
   "source": [
    "test_json[\"user\"][\"screen_name\"]"
   ]
  },
  {
   "cell_type": "code",
   "execution_count": 49,
   "metadata": {},
   "outputs": [
    {
     "name": "stdout",
     "output_type": "stream",
     "text": [
      "{\n",
      "   \"created_at\": \"Thu Feb 11 23:22:39 +0000 2021\",\n",
      "   \"id\": 1360006364379103234,\n",
      "   \"id_str\": \"1360006364379103234\",\n",
      "   \"text\": \"@SamHarrisOrg @AndrewYang Featuring tweedledum and tweedledee!\",\n",
      "   \"truncated\": false,\n",
      "   \"entities\": {\n",
      "      \"hashtags\": [],\n",
      "      \"symbols\": [],\n",
      "      \"user_mentions\": [\n",
      "         {\n",
      "            \"screen_name\": \"SamHarrisOrg\",\n",
      "            \"name\": \"Sam Harris\",\n",
      "            \"id\": 116994659,\n",
      "            \"id_str\": \"116994659\",\n",
      "            \"indices\": [\n",
      "               0,\n",
      "               13\n",
      "            ]\n",
      "         },\n",
      "         {\n",
      "            \"screen_name\": \"AndrewYang\",\n",
      "            \"name\": \"Andrew Yang\\ud83e\\udde2\\ud83d\\uddfd\\ud83c\\uddfa\\ud83c\\uddf8\",\n",
      "            \"id\": 2228878592,\n",
      "            \"id_str\": \"2228878592\",\n",
      "            \"indices\": [\n",
      "               14,\n",
      "               25\n",
      "            ]\n",
      "         }\n",
      "      ],\n",
      "      \"urls\": []\n",
      "   },\n",
      "   \"source\": \"<a href=\\\"https://mobile.twitter.com\\\" rel=\\\"nofollow\\\">Twitter Web App</a>\",\n",
      "   \"in_reply_to_status_id\": 1360006022228627457,\n",
      "   \"in_reply_to_status_id_str\": \"1360006022228627457\",\n",
      "   \"in_reply_to_user_id\": 116994659,\n",
      "   \"in_reply_to_user_id_str\": \"116994659\",\n",
      "   \"in_reply_to_screen_name\": \"SamHarrisOrg\",\n",
      "   \"user\": {\n",
      "      \"id\": 1134129005232304128,\n",
      "      \"id_str\": \"1134129005232304128\",\n",
      "      \"name\": \"Axel Davidrod \\u262d\",\n",
      "      \"screen_name\": \"IanJSchwartz\",\n",
      "      \"location\": \"Maine, USA\",\n",
      "      \"description\": \"He/him. Fuck capitalism. Fuck the police. I'm a writer and activist in Maine.\",\n",
      "      \"url\": null,\n",
      "      \"entities\": {\n",
      "         \"description\": {\n",
      "            \"urls\": []\n",
      "         }\n",
      "      },\n",
      "      \"protected\": false,\n",
      "      \"followers_count\": 656,\n",
      "      \"friends_count\": 1862,\n",
      "      \"listed_count\": 13,\n",
      "      \"created_at\": \"Thu May 30 16:06:40 +0000 2019\",\n",
      "      \"favourites_count\": 2105,\n",
      "      \"utc_offset\": null,\n",
      "      \"time_zone\": null,\n",
      "      \"geo_enabled\": false,\n",
      "      \"verified\": false,\n",
      "      \"statuses_count\": 7309,\n",
      "      \"lang\": null,\n",
      "      \"contributors_enabled\": false,\n",
      "      \"is_translator\": false,\n",
      "      \"is_translation_enabled\": false,\n",
      "      \"profile_background_color\": \"F5F8FA\",\n",
      "      \"profile_background_image_url\": null,\n",
      "      \"profile_background_image_url_https\": null,\n",
      "      \"profile_background_tile\": false,\n",
      "      \"profile_image_url\": \"http://pbs.twimg.com/profile_images/1356007057296666632/u890BpUQ_normal.jpg\",\n",
      "      \"profile_image_url_https\": \"https://pbs.twimg.com/profile_images/1356007057296666632/u890BpUQ_normal.jpg\",\n",
      "      \"profile_banner_url\": \"https://pbs.twimg.com/profile_banners/1134129005232304128/1612132360\",\n",
      "      \"profile_link_color\": \"1DA1F2\",\n",
      "      \"profile_sidebar_border_color\": \"C0DEED\",\n",
      "      \"profile_sidebar_fill_color\": \"DDEEF6\",\n",
      "      \"profile_text_color\": \"333333\",\n",
      "      \"profile_use_background_image\": true,\n",
      "      \"has_extended_profile\": false,\n",
      "      \"default_profile\": true,\n",
      "      \"default_profile_image\": false,\n",
      "      \"following\": false,\n",
      "      \"follow_request_sent\": false,\n",
      "      \"notifications\": false,\n",
      "      \"translator_type\": \"none\"\n",
      "   },\n",
      "   \"geo\": null,\n",
      "   \"coordinates\": null,\n",
      "   \"place\": null,\n",
      "   \"contributors\": null,\n",
      "   \"is_quote_status\": false,\n",
      "   \"retweet_count\": 0,\n",
      "   \"favorite_count\": 0,\n",
      "   \"favorited\": false,\n",
      "   \"retweeted\": false,\n",
      "   \"lang\": \"en\"\n",
      "}\n"
     ]
    }
   ],
   "source": [
    "print(test_json)"
   ]
  },
  {
   "cell_type": "markdown",
   "metadata": {},
   "source": [
    "### Pulling Tweets with Replies from Single User"
   ]
  },
  {
   "cell_type": "code",
   "execution_count": 29,
   "metadata": {},
   "outputs": [],
   "source": [
    "def get_all_tweets(screen_name):\n",
    "    # Twitter only allows access to a users most recent 3240 tweets with this method\n",
    "    # initialize a list to hold all the tweepy Tweets\n",
    "    alltweets = []\n",
    "\n",
    "    # make initial request for most recent tweets (200 is the maximum allowed count)\n",
    "    new_tweets = api.user_timeline(screen_name=screen_name, count=200)\n",
    "\n",
    "    # save most recent tweets\n",
    "    alltweets.extend(new_tweets)\n",
    "\n",
    "    # save the id of the oldest tweet less one\n",
    "    oldest = alltweets[-1].id - 1\n",
    "\n",
    "    # keep grabbing tweets until there are no tweets left to grab\n",
    "#     while len(new_tweets) > 0:\n",
    "#         print\n",
    "#         \"getting tweets before %s\" % (oldest)\n",
    "\n",
    "#         # all subsiquent requests use the max_id param to prevent duplicates\n",
    "#         new_tweets = api.user_timeline(screen_name=screen_name, count=200, max_id=oldest)\n",
    "\n",
    "#         # save most recent tweets\n",
    "#         alltweets.extend(new_tweets)\n",
    "\n",
    "#         # update the id of the oldest tweet less one\n",
    "#         oldest = alltweets[-1].id - 1\n",
    "\n",
    "#         print\n",
    "#         \"...%s tweets downloaded so far\" % (len(alltweets))\n",
    "\n",
    "    # transform the tweepy tweets into a 2D array that will populate the csv\n",
    "    outtweets = [[tweet.id_str, tweet.created_at, tweet.text.encode(\"utf-8\"), tweet.favorite_count, tweet.retweet_count]\n",
    "                 for tweet in alltweets]\n",
    "\n",
    "    # write the csv\n",
    "    with open('%s_tweets.csv' % screen_name, mode='w', encoding='utf-8') as f:\n",
    "        writer = csv.writer(f)\n",
    "        writer.writerow([\"id\", \"created_at\", \"text\"])\n",
    "        writer.writerows(outtweets)\n",
    "\n",
    "    pass\n",
    "\n",
    "def main():\n",
    "    get_all_tweets(\"SamHarrisOrg\")\n",
    "\n",
    "\n",
    "if __name__ == '__main__':\n",
    "    main()"
   ]
  },
  {
   "cell_type": "code",
   "execution_count": 66,
   "metadata": {},
   "outputs": [
    {
     "name": "stdout",
     "output_type": "stream",
     "text": [
      "Tweet : Discussing the future of NYC with @AndrewYang...\n",
      "\n",
      "https://t.co/AAQ8F7YVkR\n",
      "Replies : 2021-02-12 00:40:47\n",
      "Replies : 1360026025309196288\n",
      "Replies : 1360006364379103234\n",
      "Replies : @IanJSchwartz @SamHarrisOrg @AndrewYang Why listen? Or is being a dink a full time gig?\n",
      "Replies : ---\n",
      "Replies : 2021-02-11 23:36:54\n",
      "Replies : 1360009950286602240\n",
      "Replies : 1360006364379103234\n",
      "Replies : @IanJSchwartz @SamHarrisOrg @AndrewYang hey your mom told me to tell you that your writing sucks and she’s not proud of you\n",
      "Replies : ---\n",
      "Replies : 2021-02-11 23:27:21\n",
      "Replies : 1360007548112232448\n",
      "Replies : 1360006364379103234\n",
      "Replies : @IanJSchwartz @SamHarrisOrg @AndrewYang Hey that’s not nice\n",
      "Replies : ---\n"
     ]
    }
   ],
   "source": [
    "\n",
    "\n",
    "replies=[]\n",
    "non_bmp_map = dict.fromkeys(range(0x10000, sys.maxunicode + 1), 0xfffd)\n",
    "for full_tweets in tweepy.Cursor(api.user_timeline,screen_name='SamHarrisOrg',timeout=999999).items(1):\n",
    "  for tweet in tweepy.Cursor(api.search,q='to:'+'IanJSchwartz, SamHarrisOrg',result_type='recent',timeout=999999).items(50):\n",
    "#     if hasattr(tweet, 'in_reply_to_status_id_str'):\n",
    "#         if (tweet.in_reply_to_status_id_str=='1360006364379103234'):\n",
    "            replies.append(tweet.created_at)\n",
    "            replies.append(tweet.id)\n",
    "    #        replies.append(tweet.user)\n",
    "            replies.append(tweet.in_reply_to_status_id)\n",
    "            replies.append(tweet.text)\n",
    "            replies.append('---')\n",
    "        \n",
    "  print(\"Tweet :\",full_tweets.text.translate(non_bmp_map))\n",
    "  for elements in replies:\n",
    "       print(\"Replies :\",elements)\n",
    "  replies.clear()"
   ]
  },
  {
   "cell_type": "code",
   "execution_count": null,
   "metadata": {},
   "outputs": [],
   "source": [
    "@SamHarrisOrg IanJSchwartz\n",
    "1360006022228627457\n",
    "in reply to: 1360006364379103234"
   ]
  }
 ],
 "metadata": {
  "kernelspec": {
   "display_name": "Python 3",
   "language": "python",
   "name": "python3"
  },
  "language_info": {
   "codemirror_mode": {
    "name": "ipython",
    "version": 3
   },
   "file_extension": ".py",
   "mimetype": "text/x-python",
   "name": "python",
   "nbconvert_exporter": "python",
   "pygments_lexer": "ipython3",
   "version": "3.7.3"
  }
 },
 "nbformat": 4,
 "nbformat_minor": 2
}
