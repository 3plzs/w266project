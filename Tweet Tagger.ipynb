{
 "cells": [
  {
   "cell_type": "code",
   "execution_count": 1,
   "metadata": {},
   "outputs": [
    {
     "name": "stdout",
     "output_type": "stream",
     "text": [
      "Requirement already satisfied: nest_asyncio in /anaconda3/lib/python3.7/site-packages (1.5.1)\n",
      "\u001b[33mWARNING: You are using pip version 20.3.3; however, version 21.0.1 is available.\n",
      "You should consider upgrading via the '//anaconda3/bin/python -m pip install --upgrade pip' command.\u001b[0m\n"
     ]
    }
   ],
   "source": [
    "! pip install nest_asyncio"
   ]
  },
  {
   "cell_type": "code",
   "execution_count": 2,
   "metadata": {},
   "outputs": [],
   "source": [
    "import twint\n",
    "import pandas as pd\n",
    "import numpy as np\n",
    "import sklearn\n",
    "import nest_asyncio\n",
    "import time\n",
    "from IPython.display import clear_output\n",
    "nest_asyncio.apply()"
   ]
  },
  {
   "cell_type": "code",
   "execution_count": 3,
   "metadata": {},
   "outputs": [],
   "source": [
    "c = twint.Config()"
   ]
  },
  {
   "cell_type": "code",
   "execution_count": 4,
   "metadata": {},
   "outputs": [],
   "source": [
    "c.Search = \"abortion\"\n",
    "c.Store_object = True\n",
    "c.Limit = 10\n",
    "c.Pandas = True"
   ]
  },
  {
   "cell_type": "code",
   "execution_count": 5,
   "metadata": {},
   "outputs": [
    {
     "name": "stdout",
     "output_type": "stream",
     "text": [
      "1362118010568335361 2021-02-17 14:13:35 -0500 <babsbrblla> @WeForSheArg hi! would you be able to speak up and help make justice for the abused, raped girls who were also forced into abortion, and eat dog food at childhood homes supervised by the SENNIAF panamá, in Panama City, Panama. Central America?\n",
      "1362118001911283714 2021-02-17 14:13:33 -0500 <BigBlueHank> @politvidchannel best argument yet for legalized abortion\n",
      "1362117993057062913 2021-02-17 14:13:31 -0500 <wmnmedia> Reproductive rights and religion are inextricably linked—It’s impossible to talk about one without the other.  In today’s episode of @OrdEquality, @Kate_Kelly_Esq &amp; @jamiaw talk through the complex history of religion and abortion in the US. Listen here:  https://t.co/XE1lW05so7  https://t.co/dx4GVgi4kg\n",
      "1362117968470114308 2021-02-17 14:13:25 -0500 <ItzWheezzy> No one hustles like a guy looking for money to give his girlfriend for abortion 🤦🏻‍♀️\n",
      "1362117964028391433 2021-02-17 14:13:24 -0500 <Fada_Sin> Abortion's trending which is admirable. @manfromdevon According to Advocates, the Govt hasn't taken an official stance or address the concerns and this is to appease the church which is stymieing any major headway legislatively. Why oppose a referendum then?\n",
      "1362117939135008769 2021-02-17 14:13:18 -0500 <JavaJammies> @Guncannoli @Vman_1969 @OANN Ohhh going with the abortion route.  https://t.co/Vwy5cLzN9S\n",
      "1362117910429388813 2021-02-17 14:13:11 -0500 <ShellyFriedland> @brianklaas @jmayorga888 The only areas where they bother legislating are limiting rights and access: harder to vote and get abortions, taking for or limiting protections for LGBTQ people, etc.\n",
      "1362117887952101382 2021-02-17 14:13:06 -0500 <Impenitent2A> When they say \"even if it saves just 1 child\" from that hollow hipster thin neck gutterance face hole and then celebrates the gov funding abortion - you know this shit below is on tap.  It won't be me.  I'm ready to go out the same way I came in - covered in someone else's blood.\n",
      "1362117876342218756 2021-02-17 14:13:03 -0500 <Ismaeel_abdalla> @iamkhaycei @MFaarees_ What about the Europeans that brought Christianity and took slaves, the lord resistance army, countless of attacks on abortion clinics all done in the name of Christianity. No one blamed Christianity, people were blamed.\n",
      "1362117831828131845 2021-02-17 14:12:52 -0500 <YidArmee> @tzniuish @R3M386 @etlesabeilles The third option is not wanting to kill unborn children, but also recognising that if the mother will die if the child is carried to term, then the morality of the abortion is considerably different.\n",
      "1362117815864487936 2021-02-17 14:12:48 -0500 <labboypro> More manly wisdom from woman-hater Rush Limbaugh--  \"Feminazis have adopted abortion as a kind of sacrament for their religion/politics of alienation and bitterness.\"   #FlushRush\n",
      "1362117770809335813 2021-02-17 14:12:38 -0500 <babsbrblla> @rihanna hi! would you be able to speak up and help make justice for the abused, raped girls who were also forced into abortion, and eat dog food at childhood homes for ''protection'', supervised by the SENNIAF panamá, in Panama City, Panama. Central America?\n",
      "1362117762542411778 2021-02-17 14:12:36 -0500 <Lilies09> @Alfred_StatesX @AliceKing69 No. You have reading problems too. I said, I know what happens during an abortion. Why is so hard for you to comprehend that knowing what happens in an abortion, does not make everybody forced birthers. I have respect for women &amp; I keep my nose out of their medical decisions.\n",
      "1362117759321186306 2021-02-17 14:12:35 -0500 <gyalkapone> Me want unnu guh pon the woman dem bedside weh a dead from botched abortions and tell them \"Hey can you be a bit nicer when asking for abortion rights? This is really negatively affecting our Ministers and we can't have that. We can be nice about this. Okay sweetie?\"\n",
      "1362117748541689857 2021-02-17 14:12:32 -0500 <KaJo503> @MZHemingway @kayleighmcenany You all are such hypocritical POSs.  Biden's attitude toward womens' reproductive choices is the same as a majority of Americans:  \"If you don't support abortions, don't get one.  You can abhor abortions personally but it's none of your GD business if someone else needs one.\"\n",
      "1362117743995211777 2021-02-17 14:12:31 -0500 <sasasasamantha> @UFAfrankthetank @shelbzftw It’s also comical to me when humans ride so hard for no abortions but when a child is gay/trans/different race they hate them and show no mercy. If a woman is not comfortable with following through a pregnancy she does not have to.\n",
      "1362117742036418560 2021-02-17 14:12:31 -0500 <BDStanley> From a Polityka survey of Polish women of reproductive age.  44% think abortion should be permitted on demand up to 12th week. 38% support the status quo prior to the ruling of the ‘Constitutional Tribunal’. 2% agree with the ruling. 7% think abortion should be banned outright.  https://t.co/q9yyrjg06G\n",
      "1362117726475583490 2021-02-17 14:12:27 -0500 <DumbKnow2> @AbortionFunds @NolaAbortionFnd how could abortion be for women rights when the babys being aborted are sometimes girls. what about there woman rights to live\n",
      "1362117716891566084 2021-02-17 14:12:25 -0500 <deon_tedder> @mlramsdale_law Because the Dems walked out on the abortion bill in protest to its ridiculousness. So they forced us to come back and hear them talk about reasons we should control a woman’s body and why a woman is not capable of making decisions about her own healthcare...\n",
      "1362117699468484615 2021-02-17 14:12:21 -0500 <toddiepeters> If you are in a church in SC, NC, or GA &amp; interested in strategizing about how churches can respond to imminent SC abortion ban (think Clergy Consultation Network) - pls contact me! Past time for clergy/churches to mobilize support of pregnant ppl harmed by state legislatures.\n",
      "1362117667885371397 2021-02-17 14:12:13 -0500 <DrJeffKoloze> I hope that the members of the #Toledo City Council would care enough about mothers in their city to protect them from #abortion, which is never safe.  Thank you, @ohiolife Ohio Right to Life, for making this action item easy to perform.  https://t.co/7Z3sbVcJ8l\n",
      "1362117662814314498 2021-02-17 14:12:12 -0500 <BJPencil> @tiredplatypus Only devils support abortion /sarcasm\n",
      "1362117659773595656 2021-02-17 14:12:11 -0500 <girlloveswords> @LicityJess So according to this man, I, a virgin, have had about 40 abortions, without ever even being close to having sex, or  being pregnant. Someone needs to be in Biology 101.\n",
      "1362117656606744576 2021-02-17 14:12:10 -0500 <bcnn1> Pro-Life Advocates Criticize Democratic Rep. Judy Chu After She Compared Abortion Health Care to Cancer Coverage  https://t.co/AGUyCPoCgM\n",
      "1362117613942435845 2021-02-17 14:12:00 -0500 <runninglate101> The last thing women need when considering an abortion is to be faced with religious extremists trying to shame or scare them. These protests should be stopped. Clinics like BPAS give women options, space to think &amp; counselling, if needed.\n",
      "1362117606791086081 2021-02-17 14:11:59 -0500 <light4everylife> @violentuterus @KristanHawkins Where did she do that???!  Regardless, it's sickening that they wail about Limbaugh knowing full well they toasted Justice Ginsburg's passing.\n",
      "1362117564294438913 2021-02-17 14:11:48 -0500 <bcnn1> Pro-Life Advocates Criticize Democratic Rep. Judy Chu After She Compared Abortion Health Care to Cancer Coverage -  https://t.co/AGUyCPGdFm\n",
      "1362117454441381890 2021-02-17 14:11:22 -0500 <HopeyLPN> @Valkysas @POTUS OMG !   Do you even know what  a VIABLE FETUS IS ?  Watch a few videos on the abortion of a living baby being burned with saline or pulled apart!\n",
      "1362117440247848966 2021-02-17 14:11:19 -0500 <hkh11d> @ggiveitachance @DailyCaller @IEAffiliate Simple yes or no: Do you want abortion banned completely?\n",
      "1362117437441732609 2021-02-17 14:11:18 -0500 <AnnBeck47689645> @LeaderMcConnell You are correct (finally) about the impact of Rush Limbaugh.  How disgusting he was playing the sound of a vacuum cleaner whenever he talked about abortion.\n",
      "1362117434925277186 2021-02-17 14:11:18 -0500 <rahrahrager> @POTUS happy day #28! We want M4A including abortion, marijuana legalisation &amp; forgiveness, and student debt elimination. Thank you!\n",
      "1362117383494787076 2021-02-17 14:11:05 -0500 <ProChoiceWA> \"Attacking abortion\" = harming BIPOC and low-income communities. #AbortionIsHealthcare  https://t.co/Dekw9dj8Gy\n",
      "1362117383134003209 2021-02-17 14:11:05 -0500 <LadyLiberty120> Biden thinks we should “deal with it”,Ending the Keystone Pipeline, Supporting Taxpayer funded abortion, Rejoining the Paris Climate Accord, Halting of construction on the Southern Border Wall and Rejoining the China-Influenced World Health Organization  https://t.co/YCKucZdyxM\n",
      "1362117370458886148 2021-02-17 14:11:02 -0500 <Pigdowndog> @BeHumbleWithGod @ChristianPost I suppose abortion limits the supply of children for the Catholic priests to rape and abuse. No wonder they're against it.\n",
      "1362117305728184320 2021-02-17 14:10:47 -0500 <WSAV> SC Democrats walk out to protest restrictive abortion bill  https://t.co/0ej9lqefva via @WSAV\n",
      "1362117282151956491 2021-02-17 14:10:41 -0500 <Alessan35511372> @JamesAForbes1 @zaelefty Ask a woman who has been raped. Ask a woman who has given birth. Ask a woman who had a miscarriage. Ask a woman who had an abortion. Only men can pretend the body is not real. It is your privilege as the oppressor. Your body is your weapon. It's in your interest to deny it exists\n",
      "1362117268696621061 2021-02-17 14:10:38 -0500 <lasinestra> Congressman says he is preparing bill that will transcend abortion debate  https://t.co/ttidoSZmEe\n",
      "1362117259448225793 2021-02-17 14:10:36 -0500 <vixmcintyre> @thatssupercold @BMachetts Yes, screw actual, living, breathing, thinking feeling people having to crowdfund cancer treatment. Screw the diabetics paying hundreds of dollars for their life saving insulin. Abortion is the dealbreaker here 🤦‍♀️🤦‍♀️🤦‍♀️\n",
      "1362117239651110914 2021-02-17 14:10:31 -0500 <jjkooksthighs> not people putting anti-abortion pamphlets around the mall\n",
      "1362117223771377667 2021-02-17 14:10:27 -0500 <MusiicSavedMee> This stupid boy just told me that “abortion is murder and u shouldn’t do it but who am I to play god and try to stop u” just like that lolllll Go fuck yourself\n",
      "1362117173943144448 2021-02-17 14:10:15 -0500 <JackoEdward> @xLittleLlama No one, and no policy is forcing anyone to get an abortion. I never said that. And I can tell by your angry, emotional response that you are aware of the absurdity of your argument. Also, interesting how you think you know what I do with my spare time. Hope you have a great life.\n",
      "1362117161708314634 2021-02-17 14:10:12 -0500 <AlanCon30423820> @Megawatts55 Before the Koch Brothers starting funding PBS FRONTLINE CALLED HIM OUT. The vacum cleaner noise he used to make when talking about abortion.\n",
      "1362117155798491136 2021-02-17 14:10:11 -0500 <latodavia> @NBCNews The Rush quote I will always remember is him saying to a woman who thought public funds should cover birth control (you know, as opposed to abortion), \"If I'm paying for your birth control, can I watch you have sex?\" RIP, but don't let's pretend he was any kind of moral leader.\n",
      "1362117138912321539 2021-02-17 14:10:07 -0500 <anitavilla06> PBP councillor Eamonn Mc Cann bringing a motion to council to insist that Robin Swann's put the resources into providing legal abortion services in the north.   https://t.co/7BLRp53OCW\n",
      "1362117117655609344 2021-02-17 14:10:02 -0500 <marlonWill14> The abortion debate is one such example. A relatively simple matter, one the world has normalized and science has backed, but more than likely will not be passed due to the conservative majority of the country voting in a referendum only taken so as to save face as a government.\n",
      "1362117117324091392 2021-02-17 14:10:02 -0500 <AbortionClock> 1,260 so far today (84,390 this year)\n",
      "1362117112223830016 2021-02-17 14:10:01 -0500 <tzniuish> @YidArmee @R3M386 @etlesabeilles i guess it’s just a fluke that every anti-choicer I meet think of late-term abortions as some bogeyman? anyway, who cares, you either support abortion w out conditions or you want to control and subjugate people’s bodies.\n",
      "1362117095224401920 2021-02-17 14:09:57 -0500 <FernandoBorja02> @catferatu @Kate_Kelly_Esq @jamielmanson @Catholic4Choice @OrdEquality No, the Didache was written in the first century  and is very much against Abortion.\n",
      "1362117083421638670 2021-02-17 14:09:54 -0500 <kevindeleven> jamaicans think if abortion is legalized, women are gonna start getting pregnant just to terminate it for fun. #abortionstandja\n",
      "1362117060218802176 2021-02-17 14:09:48 -0500 <loe2316> Funny how the left is for abortion, against the death penalty and praises the death of someone they don't agree with. Sickening.\n",
      "1362117054850039810 2021-02-17 14:09:47 -0500 <eoinog> @sineadredmond @nadsers1 Scaremongering. There is no danger to abortion and contraception rights from the judgement.\n",
      "1362117052182499328 2021-02-17 14:09:46 -0500 <dirkamatic> @jonwcringe This woman is based. Making fun of someone's miscarriage or abortion or whatever immediately after posting an ass pic? Someone needs to file her a check for $100,000 immediately\n",
      "1362116971240816643 2021-02-17 14:09:27 -0500 <wapella> @secupp He promised to sue Nuns to force them to pay for abortions.\n",
      "1362116943692578821 2021-02-17 14:09:20 -0500 <Lilies09> @Alfred_StatesX @murmalerm @AliceKing69 That is exactly what an abortion is. The removal of contents of a uterus. Science is hard for you to understand.  Not everybody uses hyperbolic sentiment. Some ppl use actual biological words. Considering this is, after all, biology.\n",
      "1362116923975163904 2021-02-17 14:09:16 -0500 <RedDirtPatriot1> @alhuitt @AlexMar08312470 @DonaldJTrumpJr False The democratic party does indeed support abortion up until the third trimester and beyond.\n",
      "1362116905637707781 2021-02-17 14:09:11 -0500 <Pigdowndog> @ChristianPost I love the irony of a Catholic priest pontificating on the morality of abortion when his church is full of paedophiles.\n",
      "1362116890529845248 2021-02-17 14:09:08 -0500 <jeanniology> @LittleMsOpinion Rush stood proudly for life.  The fiends that are mocking him now are peddlers of death, child trafficking, abortion and lies.  Rush was a genius, generous without flaunting it, funny beyond belief and, those who listened to him, everyday for so many years, loved him like family.\n",
      "1362116888311062528 2021-02-17 14:09:07 -0500 <whoIsDangles> Lol Jamaica has been averaging 5 murders a day that we know about, abortions the least of our concerns but hey..\n",
      "1362116861723369486 2021-02-17 14:09:01 -0500 <ajoni___> \"Jamaica has one of the highest percentage of women in managerial positions\"...okay? If they wanted to access safe abortions because pregnancy threatens job security they wouldn't be able to   #Abortionstandja\n",
      "1362116837241143298 2021-02-17 14:08:55 -0500 <DonnallF> Leading bishop tells Joe Biden to stop calling himself a 'devout Catholic' over abortion views  https://t.co/8UZwbwxTFy via @theirishpost\n",
      "1362116825413283840 2021-02-17 14:08:52 -0500 <HankMullaney> @Brigid_Ire The smoke of Satan entered Ireland when they legalized abortion.\n",
      "1362116817494360064 2021-02-17 14:08:50 -0500 <Positiv22939457> Think about it a group of people who are for abortion and celebrate a persons death they disagree with! #rushlimbaugh\n",
      "1362116791162519552 2021-02-17 14:08:44 -0500 <anteesheri> And AGREED to FUND ABORTIONS OVERSEAS!\n",
      "1362116772338405380 2021-02-17 14:08:40 -0500 <violentuterus> @KristanHawkins You purposely stepped on a dead woman’s poster who died from an unsafe abortion. You’re despicable. Rush dying is a good riddance. #RestInPeePee\n",
      "1362116744857403394 2021-02-17 14:08:33 -0500 <queenozymandias> Normalizing gleeful hatred and grave dancing towards conservative shit heads can only do good things for this garbage country and I'm proud of all of you for moving this particular Overton window\n",
      "1362116743154442240 2021-02-17 14:08:33 -0500 <ggiveitachance> @hkh11d @DailyCaller @IEAffiliate Honestly my bad forgot the question. I think it would be great to ban all abortions, except for certain cases such as rape, or any case where the women was not the one making the decision to take the risk of having a baby. Not to mention if the baby or mother won’t survive birth\n",
      "1362116721147076609 2021-02-17 14:08:27 -0500 <himyaah> you bitches so against birth control like abortions not bad for your body too\n",
      "1362116718890348549 2021-02-17 14:08:27 -0500 <g_kraig> Traumatized by a past abortion, she was unable to hold her newborn son  https://t.co/P0gYGrfKkI\n",
      "1362116687944892418 2021-02-17 14:08:19 -0500 <ShaeMill> @CorpEccentric I know someone, now a grandmother, who had to marry the man who raped and impregnated her at 16. It would have been “disgraceful” for her to have a child out of wedlock. I think of that each time the church has something to say about abortion.\n",
      "1362116683985539077 2021-02-17 14:08:19 -0500 <DeeleyVt> \"Abortion care is health care.\"  Elizabeth Deutsch: Constitutional amendment to protect abortion rights  https://t.co/VN4CaxNNR7 via @vtdigger\n",
      "1362116669162856456 2021-02-17 14:08:15 -0500 <Weabbotrash> @cenkuygur I agree with the premise that if you feel like a person was genuinely evil you aren't obligated to say nice things about them when they die or pretend they weren't a POS. Hence why I said RBG could burn in hell for all the aborted babies she helped kill supporting abortion laws.\n",
      "1362116634723438596 2021-02-17 14:08:07 -0500 <Maginary1_> @JAB0870 @alexismcgill @thebgguide @AshantiGholar Abortion isn't murder as defined by Biblical law. Those who say so, cherry pick verses having nothing to do w killing an unborn child. When verses on that topic are considered, at worst we have a God given right to our viewpoint &amp; counterfit Christians at best shut-up.\n",
      "1362116633586761728 2021-02-17 14:08:07 -0500 <kim_4VOLS> New Mexico House Committee Passes Bill to Legalize Killing Babies in Abortions Up to Birth  https://t.co/n926ayHObS\n",
      "1362116528339091457 2021-02-17 14:07:41 -0500 <ElskeKevie25> Leading bishop tells Joe Biden to stop calling himself a 'devout Catholic' over abortion views  https://t.co/Ub0zqvpJSn via @theirishpost\n",
      "1362116513789050883 2021-02-17 14:07:38 -0500 <inroadsGlobe> thinking about the ways stigma against sex workers  intersects with abortion stigma ...  how are you incorporating disability justice frameworks into your stigma work??    https://t.co/AgsTcSyejY\n",
      "1362116474567991298 2021-02-17 14:07:29 -0500 <g_kraig> Rep. Raul Ruiz wrongly argues abortion is necessary for babies with disabilities  https://t.co/7R6nPdvqoX\n",
      "1362116440820703234 2021-02-17 14:07:21 -0500 <andocronome> I was in dambatta, Kano state Nigeria over the weekend working with local community stakeholders to ensure that women and girls get access to #SRHR information. No woman should have to lose her life due to unsafe abortion! #un #reprojustice  #sustainabledevelopmentgoals  https://t.co/x9vevOfrjI\n",
      "1362116436244787202 2021-02-17 14:07:19 -0500 <NotGovernor> @Zeus_Kyurem @EricDJuly @cameron_kasky All abortion is murder. This is not a libertarian position- this is definitional. The libertarian position is that murder is a NAP violation and defensive force is justified.\n",
      "1362116416124690437 2021-02-17 14:07:15 -0500 <Tom_Maguire> @declanpgarvey As an example, Sen. Jon Tester is a Dem from Deep Red Montana. His positions on gun control worry AOC, not Republicans (or pre-2020 Bernie, for that matter.)  Abortion will be trickier. \"Safe, legal and rare\" was a while ago. Both parties are dug in now.   https://t.co/0LFYQXGWjj\n",
      "1362116399745925121 2021-02-17 14:07:11 -0500 <Gone_Beachin> @LordOfFuckery @Ketih_the_Yeti @shadows_grace @pulte Right. Don't want her to get an abortion.  Don't want her to be a burden on society.  What don't you understand Yeti boy? The baby would be better off with a family that can provide proper support.\n",
      "1362116316488957952 2021-02-17 14:06:51 -0500 <ihateadoption1> And this is why I now identify as pro abortion. Pro choicers use Adoptees as fodder and hang us out to dry in the name of \"parental anonymity\".  Fuck you and fuck that.\n",
      "1362116269919600642 2021-02-17 14:06:40 -0500 <BMachetts> @thatssupercold @vixmcintyre How expectedly contradictory. You cry about socialised medicine, which would improve maternal mortality rates and help more women to choose other than abortion and then decide, naw... it’s against my beliefs to support Christian values of helping other people.\n",
      "1362116249036206083 2021-02-17 14:06:35 -0500 <LaCarCons> @GlenDivo @jaevionn @kenyatta_pow Well, look at their policy as well. While MP Cuthbert was pushing for progress on abortion locally, Holness Admin was supporting Trump Admin at UN in dialing back/restricting access to reproductive health care, such as contraceptives and abortion in 2020.\n",
      "1362116240156803073 2021-02-17 14:06:33 -0500 <whyamIhere2k> @lemonade39N123W @EmilyBanting1 @P2N2222A @CleanerBen @Sigma_Keys @DIVAmagazine @MenstrualUk @CritLite If you don’t like abortion, you don’t have to get one. But you don’t get to enforce your personal morals on others, especially when doing so can cause great physical and emotional harm. Fuck you.\n",
      "1362116192396144641 2021-02-17 14:06:21 -0500 <nadzpampalaglag> One of the Trusted and Legit sellers of Misoprostol (Cytotec) and Mifepristone pills in the Philippines. 100% safe abortion kit for sale, we accept local &amp; international delivery. why trust us? I HAVE PROOF &amp; GC W/ 200+ members. MESSAGE ME SO I CAN ADD U RIGHT AWAY. #pampalaglag  https://t.co/zN8vstNjXf\n",
      "1362116177275797505 2021-02-17 14:06:18 -0500 <premium__facts> illegal immigrants is the number one cause of abortion\n",
      "1362116147756339201 2021-02-17 14:06:11 -0500 <idabtells> @sean__cody @CorpEccentric it's definitely not just opinion, but proven fact that this is what happens based on abortion data from basically every country that had legalised\n",
      "1362116108266921991 2021-02-17 14:06:01 -0500 <kozychefmang> @Timcast Rush did not usher in abortion and the killing of millions of babies tim.\n",
      "1362116107608465408 2021-02-17 14:06:01 -0500 <Brooklynative12> @theangiestanton It's awhole lot of other things that lead to ABORTION..For the most part of this MODERN COUNTRY, MOST BLACKS were low income recipients, WE STILL HAD BIG FAMILIES...Its more SELF CENTER and NO SACRIFICING, ONE'S LIFESTYLE\n",
      "1362116072305012737 2021-02-17 14:05:53 -0500 <xLittleLlama> @JackoEdward @ccadelago @jaketapper well according to you policy is forcing people to have abortions.  Please do me a favour, take your obviously hypocritical self righteous views and GFY... I bet you frequently do, even though masturbation and spilling your seed is an equally grave Catholic sin.\n",
      "1362116041057460232 2021-02-17 14:05:45 -0500 <AuLorne> @JYLewisishere @ZJagalur @PLUTOAPLANET @CassandraRules Let's say I concede the abortion point to you - do you have a valid rebuttal to the daily hypocrisy of Christianity based on Christians' daily refusal to follow the New Testament while teaching it every Sunday?\n",
      "1362116010657124352 2021-02-17 14:05:38 -0500 <GlassMyra1> @anti_minotaur USSR was first nation to legalize abortion for a reason.\n",
      "1362115999663677443 2021-02-17 14:05:35 -0500 <g_kraig> House bill recognizes fetal pain, would bar most abortions after 20 weeks  https://t.co/sa7f4lOVO8\n",
      "1362115989249421319 2021-02-17 14:05:33 -0500 <Shun662> MS &amp; TX,states consider “home”, are red states &amp; they prove that if you can convince folks to be opposed to diversity, indoctrinate them into religion so you can govern them by social issues i.e. abortion rights, &amp; turn them into capitalists you can deny them of basic necessities  https://t.co/j8uftZBbXF\n",
      "1362115941283336196 2021-02-17 14:05:21 -0500 <ChiAbortionFund> Fund abortion, build power, and celebrate our community for our biggest fundraiser of the year: the Fund-A-Thon! While the virtual event is on 4/25, you can make a team or join as an individual funder now! Come to our kickoff event 2/27 or visit  https://t.co/87COj0h8dl to join💖  https://t.co/OL7vBMxB1a\n",
      "1362115896345391106 2021-02-17 14:05:11 -0500 <veterans_i> TN Lawmakers Introduce Bill That Would Allow Fathers to Prevent Abortion   https://t.co/IuqK6r98ed\n",
      "1362115883598929922 2021-02-17 14:05:08 -0500 <Sanguinuity> What a piece of shit  Not speaking out against the injustice done towards Uyghur women from sterilization, to forced abortion, to rape.  Not speaking out about democracy being threatened in Hong Kong and Taiwan.  But it’s a difference in culture.    https://t.co/dX4DcgGlKY\n",
      "1362115864854626304 2021-02-17 14:05:03 -0500 <TheJezzaBella> @canadiangirls99 You can't be Christian and wish for people to die because they get abortions.  You can't be Christian and ignore children in cages. You can't be Christian and give to your church but not support taxes that provide community health benefits.\n",
      "1362115864653410304 2021-02-17 14:05:03 -0500 <ncwu> As anti-abortion lawmakers in state legislatures around the country gear up to place more unnecessary restrictions on abortion in the name of \"protecting women &amp; families\", we invite you to check out this @ReproRights @IbisRH Evaluating Priorities report.   https://t.co/obRbNRVkHO\n",
      "1362115859376840706 2021-02-17 14:05:02 -0500 <AbortionClock> 1,243 so far today (84,373 this year)\n"
     ]
    }
   ],
   "source": [
    "twint.run.Search(c)"
   ]
  },
  {
   "cell_type": "code",
   "execution_count": 7,
   "metadata": {},
   "outputs": [
    {
     "data": {
      "text/plain": [
       "Index(['cashtags', 'conversation_id', 'created_at', 'date', 'day', 'geo',\n",
       "       'hashtags', 'hour', 'id', 'language', 'link', 'name', 'near', 'nlikes',\n",
       "       'nreplies', 'nretweets', 'photos', 'place', 'quote_url', 'reply_to',\n",
       "       'retweet', 'retweet_date', 'retweet_id', 'search', 'source',\n",
       "       'thumbnail', 'timezone', 'trans_dest', 'trans_src', 'translate',\n",
       "       'tweet', 'urls', 'user_id', 'user_id_str', 'user_rt', 'user_rt_id',\n",
       "       'username', 'video'],\n",
       "      dtype='object')"
      ]
     },
     "execution_count": 7,
     "metadata": {},
     "output_type": "execute_result"
    }
   ],
   "source": [
    "twint.storage.panda.Tweets_df.columns"
   ]
  },
  {
   "cell_type": "code",
   "execution_count": null,
   "metadata": {
    "scrolled": false
   },
   "outputs": [],
   "source": [
    "df = twint.storage.panda.Tweets_df[[\"date\",\"tweet\",\"conversation_id\",\"id\"]]\n",
    "df.sample(5)"
   ]
  },
  {
   "cell_type": "code",
   "execution_count": null,
   "metadata": {
    "scrolled": false
   },
   "outputs": [],
   "source": [
    "print(\"Thanks for tagging these tweets. 0 means no, 1 means yes. If you misclassify a tweet, please note down its number.\")\n",
    "print(\"If you want to stop the test, please type 'stop'\")\n",
    "time.sleep(5)\n",
    "aggressive = []\n",
    "personal_attack = []\n",
    "for t in range(len(df)):\n",
    "    clear_output(wait=True)\n",
    "    print(\"Tweet number:\",t)\n",
    "    print(df.iloc[t][\"tweet\"])\n",
    "    print(\"Aggressive?\")\n",
    "    a = input()\n",
    "    try:\n",
    "        a = int(a)\n",
    "        aggressive.append(a)\n",
    "    except ValueError:\n",
    "        if a=='stop':\n",
    "            break\n",
    "        else:\n",
    "            print('invalid input')\n",
    "            aggressive.append('--')\n",
    "    print(\"Personal attack?\")\n",
    "    b = input()\n",
    "    try:\n",
    "        b = int(b)\n",
    "        personal_attack.append(b)\n",
    "    except ValueError:\n",
    "        if b=='stop':\n",
    "            break\n",
    "        else:\n",
    "            print('invalid input')\n",
    "            personal_attack.append('--')"
   ]
  },
  {
   "cell_type": "code",
   "execution_count": null,
   "metadata": {},
   "outputs": [],
   "source": [
    "df['aggressive'] = aggressive"
   ]
  },
  {
   "cell_type": "code",
   "execution_count": 24,
   "metadata": {},
   "outputs": [
    {
     "name": "stdout",
     "output_type": "stream",
     "text": [
      "[!] No more data! Scraping will stop now.\n",
      "found 0 deleted tweets in this search.\n"
     ]
    }
   ],
   "source": [
    "replies = twint.Config()\n",
    "replies.Since = \"2021-01-04\"\n",
    "replies.Until = \"2021-01-07\"\n",
    "replies.Pandas = True\n",
    "replies.To = \"TuckerCarlson\"\n",
    "replies.Hide_output = True\n",
    "twint.run.Search(replies)\n",
    "df = twint.storage.panda.Tweets_df\n"
   ]
  },
  {
   "cell_type": "code",
   "execution_count": 37,
   "metadata": {},
   "outputs": [],
   "source": [
    "in_reply_to = df.reply_to.apply(lambda x:len(x))"
   ]
  },
  {
   "cell_type": "code",
   "execution_count": 38,
   "metadata": {},
   "outputs": [
    {
     "data": {
      "text/plain": [
       "0      1\n",
       "1      1\n",
       "2      1\n",
       "3      0\n",
       "4      1\n",
       "5      0\n",
       "6      0\n",
       "7      1\n",
       "8      0\n",
       "9      0\n",
       "10     1\n",
       "11     1\n",
       "12     0\n",
       "13     0\n",
       "14     0\n",
       "15     0\n",
       "16     0\n",
       "17     1\n",
       "18     0\n",
       "19     0\n",
       "20     0\n",
       "21     0\n",
       "22     1\n",
       "23     0\n",
       "24     0\n",
       "25     0\n",
       "26     0\n",
       "27     0\n",
       "28     0\n",
       "29     0\n",
       "      ..\n",
       "698    0\n",
       "699    0\n",
       "700    0\n",
       "701    0\n",
       "702    0\n",
       "703    0\n",
       "704    1\n",
       "705    0\n",
       "706    0\n",
       "707    1\n",
       "708    1\n",
       "709    1\n",
       "710    0\n",
       "711    1\n",
       "712    0\n",
       "713    1\n",
       "714    0\n",
       "715    0\n",
       "716    1\n",
       "717    1\n",
       "718    1\n",
       "719    1\n",
       "720    1\n",
       "721    1\n",
       "722    1\n",
       "723    1\n",
       "724    1\n",
       "725    0\n",
       "726    0\n",
       "727    0\n",
       "Name: reply_to, Length: 728, dtype: int64"
      ]
     },
     "execution_count": 38,
     "metadata": {},
     "output_type": "execute_result"
    }
   ],
   "source": [
    "in_reply_to"
   ]
  },
  {
   "cell_type": "code",
   "execution_count": 17,
   "metadata": {},
   "outputs": [
    {
     "name": "stderr",
     "output_type": "stream",
     "text": [
      "CRITICAL:root:twint.run:Twint:Feed:noData'globalObjects'\n",
      "sleeping for 1.0 secs\n",
      "CRITICAL:root:twint.run:Twint:Feed:noData'globalObjects'\n",
      "sleeping for 8.0 secs\n",
      "CRITICAL:root:twint.run:Twint:Feed:noData'globalObjects'\n",
      "sleeping for 27.0 secs\n"
     ]
    },
    {
     "ename": "KeyboardInterrupt",
     "evalue": "",
     "output_type": "error",
     "traceback": [
      "\u001b[0;31m---------------------------------------------------------------------------\u001b[0m",
      "\u001b[0;31mKeyError\u001b[0m                                  Traceback (most recent call last)",
      "\u001b[0;32m/Users/sleung2/src/twint/twint/run.py\u001b[0m in \u001b[0;36mFeed\u001b[0;34m(self)\u001b[0m\n\u001b[1;32m     93\u001b[0m                     \u001b[0;32mtry\u001b[0m\u001b[0;34m:\u001b[0m\u001b[0;34m\u001b[0m\u001b[0;34m\u001b[0m\u001b[0m\n\u001b[0;32m---> 94\u001b[0;31m                         \u001b[0mself\u001b[0m\u001b[0;34m.\u001b[0m\u001b[0mfeed\u001b[0m\u001b[0;34m,\u001b[0m \u001b[0mself\u001b[0m\u001b[0;34m.\u001b[0m\u001b[0minit\u001b[0m \u001b[0;34m=\u001b[0m \u001b[0mfeed\u001b[0m\u001b[0;34m.\u001b[0m\u001b[0mparse_tweets\u001b[0m\u001b[0;34m(\u001b[0m\u001b[0mself\u001b[0m\u001b[0;34m.\u001b[0m\u001b[0mconfig\u001b[0m\u001b[0;34m,\u001b[0m \u001b[0mresponse\u001b[0m\u001b[0;34m)\u001b[0m\u001b[0;34m\u001b[0m\u001b[0;34m\u001b[0m\u001b[0m\n\u001b[0m\u001b[1;32m     95\u001b[0m                     \u001b[0;32mexcept\u001b[0m \u001b[0mNoMoreTweetsException\u001b[0m \u001b[0;32mas\u001b[0m \u001b[0me\u001b[0m\u001b[0;34m:\u001b[0m\u001b[0;34m\u001b[0m\u001b[0;34m\u001b[0m\u001b[0m\n",
      "\u001b[0;32m/Users/sleung2/src/twint/twint/feed.py\u001b[0m in \u001b[0;36mparse_tweets\u001b[0;34m(config, response)\u001b[0m\n\u001b[1;32m     79\u001b[0m     \u001b[0mresponse\u001b[0m \u001b[0;34m=\u001b[0m \u001b[0mloads\u001b[0m\u001b[0;34m(\u001b[0m\u001b[0mresponse\u001b[0m\u001b[0;34m)\u001b[0m\u001b[0;34m\u001b[0m\u001b[0;34m\u001b[0m\u001b[0m\n\u001b[0;32m---> 80\u001b[0;31m     \u001b[0;32mif\u001b[0m \u001b[0mlen\u001b[0m\u001b[0;34m(\u001b[0m\u001b[0mresponse\u001b[0m\u001b[0;34m[\u001b[0m\u001b[0;34m'globalObjects'\u001b[0m\u001b[0;34m]\u001b[0m\u001b[0;34m[\u001b[0m\u001b[0;34m'tweets'\u001b[0m\u001b[0;34m]\u001b[0m\u001b[0;34m)\u001b[0m \u001b[0;34m==\u001b[0m \u001b[0;36m0\u001b[0m\u001b[0;34m:\u001b[0m\u001b[0;34m\u001b[0m\u001b[0;34m\u001b[0m\u001b[0m\n\u001b[0m\u001b[1;32m     81\u001b[0m         \u001b[0mmsg\u001b[0m \u001b[0;34m=\u001b[0m \u001b[0;34m'No more data!'\u001b[0m\u001b[0;34m\u001b[0m\u001b[0;34m\u001b[0m\u001b[0m\n",
      "\u001b[0;31mKeyError\u001b[0m: 'globalObjects'",
      "\nDuring handling of the above exception, another exception occurred:\n",
      "\u001b[0;31mKeyboardInterrupt\u001b[0m                         Traceback (most recent call last)",
      "\u001b[0;32m<ipython-input-17-e7ee433789ba>\u001b[0m in \u001b[0;36m<module>\u001b[0;34m()\u001b[0m\n\u001b[1;32m      3\u001b[0m \u001b[0mreplies\u001b[0m\u001b[0;34m.\u001b[0m\u001b[0mconversation_id\u001b[0m \u001b[0;34m=\u001b[0m \u001b[0;34m\"1347630709133901830\"\u001b[0m\u001b[0;34m\u001b[0m\u001b[0;34m\u001b[0m\u001b[0m\n\u001b[1;32m      4\u001b[0m \u001b[0mreplies\u001b[0m\u001b[0;34m.\u001b[0m\u001b[0mHide_output\u001b[0m \u001b[0;34m=\u001b[0m \u001b[0;32mTrue\u001b[0m\u001b[0;34m\u001b[0m\u001b[0;34m\u001b[0m\u001b[0m\n\u001b[0;32m----> 5\u001b[0;31m \u001b[0mtwint\u001b[0m\u001b[0;34m.\u001b[0m\u001b[0mrun\u001b[0m\u001b[0;34m.\u001b[0m\u001b[0mSearch\u001b[0m\u001b[0;34m(\u001b[0m\u001b[0mreplies\u001b[0m\u001b[0;34m)\u001b[0m\u001b[0;34m\u001b[0m\u001b[0;34m\u001b[0m\u001b[0m\n\u001b[0m\u001b[1;32m      6\u001b[0m \u001b[0mdf\u001b[0m \u001b[0;34m=\u001b[0m \u001b[0mtwint\u001b[0m\u001b[0;34m.\u001b[0m\u001b[0mstorage\u001b[0m\u001b[0;34m.\u001b[0m\u001b[0mpanda\u001b[0m\u001b[0;34m.\u001b[0m\u001b[0mTweets_df\u001b[0m\u001b[0;34m\u001b[0m\u001b[0;34m\u001b[0m\u001b[0m\n",
      "\u001b[0;32m/Users/sleung2/src/twint/twint/run.py\u001b[0m in \u001b[0;36mSearch\u001b[0;34m(config, callback)\u001b[0m\n\u001b[1;32m    408\u001b[0m     \u001b[0mconfig\u001b[0m\u001b[0;34m.\u001b[0m\u001b[0mFollowers\u001b[0m \u001b[0;34m=\u001b[0m \u001b[0;32mFalse\u001b[0m\u001b[0;34m\u001b[0m\u001b[0;34m\u001b[0m\u001b[0m\n\u001b[1;32m    409\u001b[0m     \u001b[0mconfig\u001b[0m\u001b[0;34m.\u001b[0m\u001b[0mProfile\u001b[0m \u001b[0;34m=\u001b[0m \u001b[0;32mFalse\u001b[0m\u001b[0;34m\u001b[0m\u001b[0;34m\u001b[0m\u001b[0m\n\u001b[0;32m--> 410\u001b[0;31m     \u001b[0mrun\u001b[0m\u001b[0;34m(\u001b[0m\u001b[0mconfig\u001b[0m\u001b[0;34m,\u001b[0m \u001b[0mcallback\u001b[0m\u001b[0;34m)\u001b[0m\u001b[0;34m\u001b[0m\u001b[0;34m\u001b[0m\u001b[0m\n\u001b[0m\u001b[1;32m    411\u001b[0m     \u001b[0;32mif\u001b[0m \u001b[0mconfig\u001b[0m\u001b[0;34m.\u001b[0m\u001b[0mPandas_au\u001b[0m\u001b[0;34m:\u001b[0m\u001b[0;34m\u001b[0m\u001b[0;34m\u001b[0m\u001b[0m\n\u001b[1;32m    412\u001b[0m         \u001b[0mstorage\u001b[0m\u001b[0;34m.\u001b[0m\u001b[0mpanda\u001b[0m\u001b[0;34m.\u001b[0m\u001b[0m_autoget\u001b[0m\u001b[0;34m(\u001b[0m\u001b[0;34m\"tweet\"\u001b[0m\u001b[0;34m)\u001b[0m\u001b[0;34m\u001b[0m\u001b[0;34m\u001b[0m\u001b[0m\n",
      "\u001b[0;32m/Users/sleung2/src/twint/twint/run.py\u001b[0m in \u001b[0;36mrun\u001b[0;34m(config, callback)\u001b[0m\n\u001b[1;32m    327\u001b[0m         \u001b[0;32mraise\u001b[0m\u001b[0;34m\u001b[0m\u001b[0;34m\u001b[0m\u001b[0m\n\u001b[1;32m    328\u001b[0m \u001b[0;34m\u001b[0m\u001b[0m\n\u001b[0;32m--> 329\u001b[0;31m     \u001b[0mget_event_loop\u001b[0m\u001b[0;34m(\u001b[0m\u001b[0;34m)\u001b[0m\u001b[0;34m.\u001b[0m\u001b[0mrun_until_complete\u001b[0m\u001b[0;34m(\u001b[0m\u001b[0mTwint\u001b[0m\u001b[0;34m(\u001b[0m\u001b[0mconfig\u001b[0m\u001b[0;34m)\u001b[0m\u001b[0;34m.\u001b[0m\u001b[0mmain\u001b[0m\u001b[0;34m(\u001b[0m\u001b[0mcallback\u001b[0m\u001b[0;34m)\u001b[0m\u001b[0;34m)\u001b[0m\u001b[0;34m\u001b[0m\u001b[0;34m\u001b[0m\u001b[0m\n\u001b[0m\u001b[1;32m    330\u001b[0m \u001b[0;34m\u001b[0m\u001b[0m\n\u001b[1;32m    331\u001b[0m \u001b[0;34m\u001b[0m\u001b[0m\n",
      "\u001b[0;32m//anaconda3/lib/python3.7/site-packages/nest_asyncio.py\u001b[0m in \u001b[0;36mrun_until_complete\u001b[0;34m(self, future)\u001b[0m\n\u001b[1;32m     62\u001b[0m                 \u001b[0mf\u001b[0m\u001b[0;34m.\u001b[0m\u001b[0m_log_destroy_pending\u001b[0m \u001b[0;34m=\u001b[0m \u001b[0;32mFalse\u001b[0m\u001b[0;34m\u001b[0m\u001b[0;34m\u001b[0m\u001b[0m\n\u001b[1;32m     63\u001b[0m             \u001b[0;32mwhile\u001b[0m \u001b[0;32mnot\u001b[0m \u001b[0mf\u001b[0m\u001b[0;34m.\u001b[0m\u001b[0mdone\u001b[0m\u001b[0;34m(\u001b[0m\u001b[0;34m)\u001b[0m\u001b[0;34m:\u001b[0m\u001b[0;34m\u001b[0m\u001b[0;34m\u001b[0m\u001b[0m\n\u001b[0;32m---> 64\u001b[0;31m                 \u001b[0mself\u001b[0m\u001b[0;34m.\u001b[0m\u001b[0m_run_once\u001b[0m\u001b[0;34m(\u001b[0m\u001b[0;34m)\u001b[0m\u001b[0;34m\u001b[0m\u001b[0;34m\u001b[0m\u001b[0m\n\u001b[0m\u001b[1;32m     65\u001b[0m                 \u001b[0;32mif\u001b[0m \u001b[0mself\u001b[0m\u001b[0;34m.\u001b[0m\u001b[0m_stopping\u001b[0m\u001b[0;34m:\u001b[0m\u001b[0;34m\u001b[0m\u001b[0;34m\u001b[0m\u001b[0m\n\u001b[1;32m     66\u001b[0m                     \u001b[0;32mbreak\u001b[0m\u001b[0;34m\u001b[0m\u001b[0;34m\u001b[0m\u001b[0m\n",
      "\u001b[0;32m//anaconda3/lib/python3.7/site-packages/nest_asyncio.py\u001b[0m in \u001b[0;36m_run_once\u001b[0;34m(self)\u001b[0m\n\u001b[1;32m     98\u001b[0m             \u001b[0mhandle\u001b[0m \u001b[0;34m=\u001b[0m \u001b[0mready\u001b[0m\u001b[0;34m.\u001b[0m\u001b[0mpopleft\u001b[0m\u001b[0;34m(\u001b[0m\u001b[0;34m)\u001b[0m\u001b[0;34m\u001b[0m\u001b[0;34m\u001b[0m\u001b[0m\n\u001b[1;32m     99\u001b[0m             \u001b[0;32mif\u001b[0m \u001b[0;32mnot\u001b[0m \u001b[0mhandle\u001b[0m\u001b[0;34m.\u001b[0m\u001b[0m_cancelled\u001b[0m\u001b[0;34m:\u001b[0m\u001b[0;34m\u001b[0m\u001b[0;34m\u001b[0m\u001b[0m\n\u001b[0;32m--> 100\u001b[0;31m                 \u001b[0mhandle\u001b[0m\u001b[0;34m.\u001b[0m\u001b[0m_run\u001b[0m\u001b[0;34m(\u001b[0m\u001b[0;34m)\u001b[0m\u001b[0;34m\u001b[0m\u001b[0;34m\u001b[0m\u001b[0m\n\u001b[0m\u001b[1;32m    101\u001b[0m         \u001b[0mhandle\u001b[0m \u001b[0;34m=\u001b[0m \u001b[0;32mNone\u001b[0m\u001b[0;34m\u001b[0m\u001b[0;34m\u001b[0m\u001b[0m\n\u001b[1;32m    102\u001b[0m \u001b[0;34m\u001b[0m\u001b[0m\n",
      "\u001b[0;32m//anaconda3/lib/python3.7/asyncio/events.py\u001b[0m in \u001b[0;36m_run\u001b[0;34m(self)\u001b[0m\n\u001b[1;32m     86\u001b[0m     \u001b[0;32mdef\u001b[0m \u001b[0m_run\u001b[0m\u001b[0;34m(\u001b[0m\u001b[0mself\u001b[0m\u001b[0;34m)\u001b[0m\u001b[0;34m:\u001b[0m\u001b[0;34m\u001b[0m\u001b[0;34m\u001b[0m\u001b[0m\n\u001b[1;32m     87\u001b[0m         \u001b[0;32mtry\u001b[0m\u001b[0;34m:\u001b[0m\u001b[0;34m\u001b[0m\u001b[0;34m\u001b[0m\u001b[0m\n\u001b[0;32m---> 88\u001b[0;31m             \u001b[0mself\u001b[0m\u001b[0;34m.\u001b[0m\u001b[0m_context\u001b[0m\u001b[0;34m.\u001b[0m\u001b[0mrun\u001b[0m\u001b[0;34m(\u001b[0m\u001b[0mself\u001b[0m\u001b[0;34m.\u001b[0m\u001b[0m_callback\u001b[0m\u001b[0;34m,\u001b[0m \u001b[0;34m*\u001b[0m\u001b[0mself\u001b[0m\u001b[0;34m.\u001b[0m\u001b[0m_args\u001b[0m\u001b[0;34m)\u001b[0m\u001b[0;34m\u001b[0m\u001b[0;34m\u001b[0m\u001b[0m\n\u001b[0m\u001b[1;32m     89\u001b[0m         \u001b[0;32mexcept\u001b[0m \u001b[0mException\u001b[0m \u001b[0;32mas\u001b[0m \u001b[0mexc\u001b[0m\u001b[0;34m:\u001b[0m\u001b[0;34m\u001b[0m\u001b[0;34m\u001b[0m\u001b[0m\n\u001b[1;32m     90\u001b[0m             cb = format_helpers._format_callback_source(\n",
      "\u001b[0;32m//anaconda3/lib/python3.7/site-packages/nest_asyncio.py\u001b[0m in \u001b[0;36mstep\u001b[0;34m(task, exc)\u001b[0m\n\u001b[1;32m    167\u001b[0m         \u001b[0mcurr_task\u001b[0m \u001b[0;34m=\u001b[0m \u001b[0mcurr_tasks\u001b[0m\u001b[0;34m.\u001b[0m\u001b[0mget\u001b[0m\u001b[0;34m(\u001b[0m\u001b[0mtask\u001b[0m\u001b[0;34m.\u001b[0m\u001b[0m_loop\u001b[0m\u001b[0;34m)\u001b[0m\u001b[0;34m\u001b[0m\u001b[0;34m\u001b[0m\u001b[0m\n\u001b[1;32m    168\u001b[0m         \u001b[0;32mtry\u001b[0m\u001b[0;34m:\u001b[0m\u001b[0;34m\u001b[0m\u001b[0;34m\u001b[0m\u001b[0m\n\u001b[0;32m--> 169\u001b[0;31m             \u001b[0mstep_orig\u001b[0m\u001b[0;34m(\u001b[0m\u001b[0mtask\u001b[0m\u001b[0;34m,\u001b[0m \u001b[0mexc\u001b[0m\u001b[0;34m)\u001b[0m\u001b[0;34m\u001b[0m\u001b[0;34m\u001b[0m\u001b[0m\n\u001b[0m\u001b[1;32m    170\u001b[0m         \u001b[0;32mfinally\u001b[0m\u001b[0;34m:\u001b[0m\u001b[0;34m\u001b[0m\u001b[0;34m\u001b[0m\u001b[0m\n\u001b[1;32m    171\u001b[0m             \u001b[0;32mif\u001b[0m \u001b[0mcurr_task\u001b[0m \u001b[0;32mis\u001b[0m \u001b[0;32mNone\u001b[0m\u001b[0;34m:\u001b[0m\u001b[0;34m\u001b[0m\u001b[0;34m\u001b[0m\u001b[0m\n",
      "\u001b[0;32m//anaconda3/lib/python3.7/asyncio/tasks.py\u001b[0m in \u001b[0;36m__step\u001b[0;34m(***failed resolving arguments***)\u001b[0m\n\u001b[1;32m    221\u001b[0m                 \u001b[0;31m# We use the `send` method directly, because coroutines\u001b[0m\u001b[0;34m\u001b[0m\u001b[0;34m\u001b[0m\u001b[0;34m\u001b[0m\u001b[0m\n\u001b[1;32m    222\u001b[0m                 \u001b[0;31m# don't have `__iter__` and `__next__` methods.\u001b[0m\u001b[0;34m\u001b[0m\u001b[0;34m\u001b[0m\u001b[0;34m\u001b[0m\u001b[0m\n\u001b[0;32m--> 223\u001b[0;31m                 \u001b[0mresult\u001b[0m \u001b[0;34m=\u001b[0m \u001b[0mcoro\u001b[0m\u001b[0;34m.\u001b[0m\u001b[0msend\u001b[0m\u001b[0;34m(\u001b[0m\u001b[0;32mNone\u001b[0m\u001b[0;34m)\u001b[0m\u001b[0;34m\u001b[0m\u001b[0;34m\u001b[0m\u001b[0m\n\u001b[0m\u001b[1;32m    224\u001b[0m             \u001b[0;32melse\u001b[0m\u001b[0;34m:\u001b[0m\u001b[0;34m\u001b[0m\u001b[0;34m\u001b[0m\u001b[0m\n\u001b[1;32m    225\u001b[0m                 \u001b[0mresult\u001b[0m \u001b[0;34m=\u001b[0m \u001b[0mcoro\u001b[0m\u001b[0;34m.\u001b[0m\u001b[0mthrow\u001b[0m\u001b[0;34m(\u001b[0m\u001b[0mexc\u001b[0m\u001b[0;34m)\u001b[0m\u001b[0;34m\u001b[0m\u001b[0;34m\u001b[0m\u001b[0m\n",
      "\u001b[0;32m/Users/sleung2/src/twint/twint/run.py\u001b[0m in \u001b[0;36mrun\u001b[0;34m(self)\u001b[0m\n\u001b[1;32m    284\u001b[0m                     \u001b[0;32melif\u001b[0m \u001b[0mself\u001b[0m\u001b[0;34m.\u001b[0m\u001b[0mconfig\u001b[0m\u001b[0;34m.\u001b[0m\u001b[0mTwitterSearch\u001b[0m\u001b[0;34m:\u001b[0m\u001b[0;34m\u001b[0m\u001b[0;34m\u001b[0m\u001b[0m\n\u001b[1;32m    285\u001b[0m                         \u001b[0mlogme\u001b[0m\u001b[0;34m.\u001b[0m\u001b[0mdebug\u001b[0m\u001b[0;34m(\u001b[0m\u001b[0m__name__\u001b[0m \u001b[0;34m+\u001b[0m \u001b[0;34m':Twint:main:twitter-search'\u001b[0m\u001b[0;34m)\u001b[0m\u001b[0;34m\u001b[0m\u001b[0;34m\u001b[0m\u001b[0m\n\u001b[0;32m--> 286\u001b[0;31m                         \u001b[0;32mawait\u001b[0m \u001b[0mself\u001b[0m\u001b[0;34m.\u001b[0m\u001b[0mtweets\u001b[0m\u001b[0;34m(\u001b[0m\u001b[0;34m)\u001b[0m\u001b[0;34m\u001b[0m\u001b[0;34m\u001b[0m\u001b[0m\n\u001b[0m\u001b[1;32m    287\u001b[0m                 \u001b[0;32melse\u001b[0m\u001b[0;34m:\u001b[0m\u001b[0;34m\u001b[0m\u001b[0;34m\u001b[0m\u001b[0m\n\u001b[1;32m    288\u001b[0m                     \u001b[0mlogme\u001b[0m\u001b[0;34m.\u001b[0m\u001b[0mdebug\u001b[0m\u001b[0;34m(\u001b[0m\u001b[0m__name__\u001b[0m \u001b[0;34m+\u001b[0m \u001b[0;34m':Twint:main:no-more-tweets'\u001b[0m\u001b[0;34m)\u001b[0m\u001b[0;34m\u001b[0m\u001b[0;34m\u001b[0m\u001b[0m\n",
      "\u001b[0;32m/Users/sleung2/src/twint/twint/run.py\u001b[0m in \u001b[0;36mtweets\u001b[0;34m(self)\u001b[0m\n\u001b[1;32m    215\u001b[0m \u001b[0;34m\u001b[0m\u001b[0m\n\u001b[1;32m    216\u001b[0m     \u001b[0;32masync\u001b[0m \u001b[0;32mdef\u001b[0m \u001b[0mtweets\u001b[0m\u001b[0;34m(\u001b[0m\u001b[0mself\u001b[0m\u001b[0;34m)\u001b[0m\u001b[0;34m:\u001b[0m\u001b[0;34m\u001b[0m\u001b[0;34m\u001b[0m\u001b[0m\n\u001b[0;32m--> 217\u001b[0;31m         \u001b[0;32mawait\u001b[0m \u001b[0mself\u001b[0m\u001b[0;34m.\u001b[0m\u001b[0mFeed\u001b[0m\u001b[0;34m(\u001b[0m\u001b[0;34m)\u001b[0m\u001b[0;34m\u001b[0m\u001b[0;34m\u001b[0m\u001b[0m\n\u001b[0m\u001b[1;32m    218\u001b[0m         \u001b[0;31m# TODO : need to take care of this later\u001b[0m\u001b[0;34m\u001b[0m\u001b[0;34m\u001b[0m\u001b[0;34m\u001b[0m\u001b[0m\n\u001b[1;32m    219\u001b[0m         \u001b[0;32mif\u001b[0m \u001b[0mself\u001b[0m\u001b[0;34m.\u001b[0m\u001b[0mconfig\u001b[0m\u001b[0;34m.\u001b[0m\u001b[0mLocation\u001b[0m\u001b[0;34m:\u001b[0m\u001b[0;34m\u001b[0m\u001b[0;34m\u001b[0m\u001b[0m\n",
      "\u001b[0;32m/Users/sleung2/src/twint/twint/run.py\u001b[0m in \u001b[0;36mFeed\u001b[0;34m(self)\u001b[0m\n\u001b[1;32m    134\u001b[0m \u001b[0;34m\u001b[0m\u001b[0m\n\u001b[1;32m    135\u001b[0m                     \u001b[0msys\u001b[0m\u001b[0;34m.\u001b[0m\u001b[0mstderr\u001b[0m\u001b[0;34m.\u001b[0m\u001b[0mwrite\u001b[0m\u001b[0;34m(\u001b[0m\u001b[0;34m'sleeping for {} secs\\n'\u001b[0m\u001b[0;34m.\u001b[0m\u001b[0mformat\u001b[0m\u001b[0;34m(\u001b[0m\u001b[0mdelay\u001b[0m\u001b[0;34m)\u001b[0m\u001b[0;34m)\u001b[0m\u001b[0;34m\u001b[0m\u001b[0;34m\u001b[0m\u001b[0m\n\u001b[0;32m--> 136\u001b[0;31m                     \u001b[0mtime\u001b[0m\u001b[0;34m.\u001b[0m\u001b[0msleep\u001b[0m\u001b[0;34m(\u001b[0m\u001b[0mdelay\u001b[0m\u001b[0;34m)\u001b[0m\u001b[0;34m\u001b[0m\u001b[0;34m\u001b[0m\u001b[0m\n\u001b[0m\u001b[1;32m    137\u001b[0m                     \u001b[0mself\u001b[0m\u001b[0;34m.\u001b[0m\u001b[0muser_agent\u001b[0m \u001b[0;34m=\u001b[0m \u001b[0;32mawait\u001b[0m \u001b[0mget\u001b[0m\u001b[0;34m.\u001b[0m\u001b[0mRandomUserAgent\u001b[0m\u001b[0;34m(\u001b[0m\u001b[0mwa\u001b[0m\u001b[0;34m=\u001b[0m\u001b[0;32mTrue\u001b[0m\u001b[0;34m)\u001b[0m\u001b[0;34m\u001b[0m\u001b[0;34m\u001b[0m\u001b[0m\n\u001b[1;32m    138\u001b[0m                     \u001b[0;32mcontinue\u001b[0m\u001b[0;34m\u001b[0m\u001b[0;34m\u001b[0m\u001b[0m\n",
      "\u001b[0;31mKeyboardInterrupt\u001b[0m: "
     ]
    }
   ],
   "source": [
    "replies = twint.Config()\n",
    "replies.Pandas = True\n",
    "replies.conversation_id = \"1347630709133901830\"\n",
    "replies.Hide_output = True\n",
    "twint.run.Search(replies)\n",
    "df = twint.storage.panda.Tweets_df"
   ]
  },
  {
   "cell_type": "code",
   "execution_count": 16,
   "metadata": {},
   "outputs": [
    {
     "data": {
      "text/plain": [
       "Config(Username=None, User_id=None, Search=None, Lookup=False, Geo='', Location=False, Near=None, Lang=None, Output=None, Elasticsearch=None, Year=None, Since=None, Until=None, Email=None, Phone=None, Verified=False, Store_csv=False, Store_json=False, Show_hashtags=False, Show_cashtags=False, Limit=None, Count=None, Stats=False, Database=None, To=None, Debug=False, Essid='', Profile=False, Followers=False, Following=False, Favorites=False, TwitterSearch=False, User_full=False, Store_object=False, Store_object_tweets_list=None, Store_object_users_list=None, Store_object_follow_list=None, Pandas_type=None, Pandas=True, Index_tweets='twinttweets', Index_follow='twintgraph', Index_users='twintuser', Retries_count=10, Resume=None, Images=False, Videos=False, Media=False, Replies=False, Pandas_clean=True, Lowercase=True, Pandas_au=True, Proxy_host='', Proxy_port=0, Proxy_type=None, Tor_control_port=9051, Tor_control_password=None, Retweets=False, Query=None, Hide_output=False, Custom_query='', Popular_tweets=False, Skip_certs=False, Native_retweets=False, Min_likes=0, Min_retweets=0, Min_replies=0, Links=None, Source=None, Members_list=None, Filter_retweets=False, Translate=False, TranslateSrc='en', TranslateDest='en', Backoff_exponent=3.0, Min_wait_time=0, Bearer_token=None, Guest_token=None, deleted=None)"
      ]
     },
     "execution_count": 16,
     "metadata": {},
     "output_type": "execute_result"
    }
   ],
   "source": [
    "df"
   ]
  },
  {
   "cell_type": "code",
   "execution_count": null,
   "metadata": {},
   "outputs": [],
   "source": []
  }
 ],
 "metadata": {
  "kernelspec": {
   "display_name": "Python 3",
   "language": "python",
   "name": "python3"
  },
  "language_info": {
   "codemirror_mode": {
    "name": "ipython",
    "version": 3
   },
   "file_extension": ".py",
   "mimetype": "text/x-python",
   "name": "python",
   "nbconvert_exporter": "python",
   "pygments_lexer": "ipython3",
   "version": "3.7.3"
  }
 },
 "nbformat": 4,
 "nbformat_minor": 2
}
