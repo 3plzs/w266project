{
 "cells": [
  {
   "cell_type": "code",
   "execution_count": 12,
   "metadata": {},
   "outputs": [],
   "source": [
    "import tweepy\n",
    "import pandas as pd\n",
    "import itertools\n",
    "import sys\n",
    "import csv"
   ]
  },
  {
   "cell_type": "markdown",
   "metadata": {},
   "source": [
    "### Authorization"
   ]
  },
  {
   "cell_type": "code",
   "execution_count": 2,
   "metadata": {},
   "outputs": [],
   "source": [
    "consumer_key=\"FJxeNg2pkApfQkHWp8I0E70gU\"\n",
    "consumer_secret= \"es5030A8qeOYvq3jfXmZicq2Yu4X2xOMm0Pfa1z0cqaxeUHqwU\"\n",
    "access_token = \"47257922-zzA5oohYNDNN48aUBxNaBPhD6Gme3O8V5BKYlTirk\"\n",
    "access_token_secret = \"dmzb11NuClRtuN6r7OLLoWo1AANZjIjgTIX6thBS4cOXh\"\n",
    "\n",
    "auth = tweepy.OAuthHandler(consumer_key, consumer_secret)\n",
    "auth.set_access_token(access_token, access_token_secret)\n",
    "api = tweepy.API(auth)"
   ]
  },
  {
   "cell_type": "markdown",
   "metadata": {},
   "source": [
    "### Exploring Cursor Object"
   ]
  },
  {
   "cell_type": "code",
   "execution_count": 9,
   "metadata": {},
   "outputs": [],
   "source": [
    "#Search for tweets based on search term\n",
    "search_term = 'immigration'\n",
    "number_of_tweets = 1\n",
    "\n",
    "cursor = tweepy.Cursor(api.search, q= search_term,\n",
    "                      tweet_mode=\"extended\").items(number_of_tweets)"
   ]
  },
  {
   "cell_type": "code",
   "execution_count": 10,
   "metadata": {},
   "outputs": [
    {
     "name": "stdout",
     "output_type": "stream",
     "text": [
      "RT @DASimmigration: What is the result of procrastination!\n",
      "Is all of those promisis about immigration limited only to illegal immigrants! S…\n",
      "0\n",
      "2021-02-11 20:22:36\n"
     ]
    }
   ],
   "source": [
    "for i in cursor:\n",
    "    print(i.full_text)\n",
    "    print(i.favorite_count)\n",
    "    print(i.created_at)"
   ]
  },
  {
   "cell_type": "markdown",
   "metadata": {},
   "source": [
    "### Pulling Tweets with Replies from Single User"
   ]
  },
  {
   "cell_type": "code",
   "execution_count": 15,
   "metadata": {},
   "outputs": [],
   "source": [
    "def get_all_tweets(screen_name):\n",
    "    # Twitter only allows access to a users most recent 3240 tweets with this method\n",
    "    # initialize a list to hold all the tweepy Tweets\n",
    "    alltweets = []\n",
    "\n",
    "    # make initial request for most recent tweets (200 is the maximum allowed count)\n",
    "    new_tweets = api.user_timeline(screen_name=screen_name, count=200)\n",
    "\n",
    "    # save most recent tweets\n",
    "    alltweets.extend(new_tweets)\n",
    "\n",
    "    # save the id of the oldest tweet less one\n",
    "    oldest = alltweets[-1].id - 1\n",
    "\n",
    "    # keep grabbing tweets until there are no tweets left to grab\n",
    "    while len(new_tweets) > 0:\n",
    "        print\n",
    "        \"getting tweets before %s\" % (oldest)\n",
    "\n",
    "        # all subsiquent requests use the max_id param to prevent duplicates\n",
    "        new_tweets = api.user_timeline(screen_name=screen_name, count=200, max_id=oldest)\n",
    "\n",
    "        # save most recent tweets\n",
    "        alltweets.extend(new_tweets)\n",
    "\n",
    "        # update the id of the oldest tweet less one\n",
    "        oldest = alltweets[-1].id - 1\n",
    "\n",
    "        print\n",
    "        \"...%s tweets downloaded so far\" % (len(alltweets))\n",
    "\n",
    "    # transform the tweepy tweets into a 2D array that will populate the csv\n",
    "    outtweets = [[tweet.id_str, tweet.created_at, tweet.text.encode(\"utf-8\"), tweet.favorite_count, tweet.retweet_count]\n",
    "                 for tweet in alltweets]\n",
    "\n",
    "    # write the csv\n",
    "    with open('%s_tweets.csv' % screen_name, mode='w', encoding='utf-8') as f:\n",
    "        writer = csv.writer(f)\n",
    "        writer.writerow([\"id\", \"created_at\", \"text\"])\n",
    "        writer.writerows(outtweets)\n",
    "\n",
    "    pass\n",
    "\n",
    "def main():\n",
    "    get_all_tweets(\"TuckerCarlson\")\n",
    "\n",
    "\n",
    "if __name__ == '__main__':\n",
    "    main()"
   ]
  },
  {
   "cell_type": "code",
   "execution_count": 24,
   "metadata": {},
   "outputs": [
    {
     "name": "stdout",
     "output_type": "stream",
     "text": [
      "Tweet : The greatest music of all time. \n",
      "https://t.co/1MFa2yxrAX\n",
      "Replies : 2021-02-11 20:23:49\n",
      "Replies : @TuckerCarlson @FoxNews #FireTuckerCarlson NOW\n",
      "Replies : 2021-02-11 20:16:27\n",
      "Replies : @TuckerCarlson Yeah Tuckuur thinks he is Kurt Cobain in Spain. HAAAA 🤠🤠\n",
      "Replies : 2021-02-11 19:55:02\n",
      "Replies : @TuckerCarlson You’re absolutely the lowest form of life. Don’t know how you sleep at night.\n",
      "Replies : 2021-02-11 19:42:09\n",
      "Replies : @TuckerCarlson You’re denial of George Floyd’s death is repugnant and grotesque. You’re a noxious entity in our dis… https://t.co/qBWkneQfM1\n"
     ]
    }
   ],
   "source": [
    "\n",
    "\n",
    "replies=[]\n",
    "non_bmp_map = dict.fromkeys(range(0x10000, sys.maxunicode + 1), 0xfffd)\n",
    "for full_tweets in tweepy.Cursor(api.user_timeline,screen_name='TuckerCarlson',timeout=999999).items(1):\n",
    "  for tweet in tweepy.Cursor(api.search,q='to:'+'TuckerCarlson',result_type='recent',timeout=999999).items(50):\n",
    "    if hasattr(tweet, 'in_reply_to_status_id_str'):\n",
    "      if (tweet.in_reply_to_status_id_str==full_tweets.id_str):\n",
    "        replies.append(tweet.created_at)\n",
    "        replies.append(tweet.text)\n",
    "\n",
    "  print(\"Tweet :\",full_tweets.text.translate(non_bmp_map))\n",
    "  for elements in replies:\n",
    "       print(\"Replies :\",elements)\n",
    "  replies.clear()"
   ]
  },
  {
   "cell_type": "code",
   "execution_count": null,
   "metadata": {},
   "outputs": [],
   "source": []
  }
 ],
 "metadata": {
  "kernelspec": {
   "display_name": "Python 3",
   "language": "python",
   "name": "python3"
  },
  "language_info": {
   "codemirror_mode": {
    "name": "ipython",
    "version": 3
   },
   "file_extension": ".py",
   "mimetype": "text/x-python",
   "name": "python",
   "nbconvert_exporter": "python",
   "pygments_lexer": "ipython3",
   "version": "3.7.3"
  }
 },
 "nbformat": 4,
 "nbformat_minor": 2
}
